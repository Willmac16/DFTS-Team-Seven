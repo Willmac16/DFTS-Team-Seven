{
 "cells": [
  {
   "cell_type": "markdown",
   "metadata": {},
   "source": [
    "## Heat Engine State Table"
   ]
  },
  {
   "cell_type": "markdown",
   "metadata": {},
   "source": [
    "## Install and import useful libraries"
   ]
  },
  {
   "cell_type": "code",
   "execution_count": 29,
   "metadata": {},
   "outputs": [
    {
     "name": "stdout",
     "output_type": "stream",
     "text": [
      "Requirement already satisfied: pint in /Library/Frameworks/Python.framework/Versions/3.12/lib/python3.12/site-packages (0.23)\n",
      "Requirement already satisfied: pandas in /Library/Frameworks/Python.framework/Versions/3.12/lib/python3.12/site-packages (2.1.3)\n",
      "Requirement already satisfied: pyfluids in /Library/Frameworks/Python.framework/Versions/3.12/lib/python3.12/site-packages (2.6.0)\n",
      "Requirement already satisfied: typing-extensions in /Library/Frameworks/Python.framework/Versions/3.12/lib/python3.12/site-packages (from pint) (4.8.0)\n",
      "Requirement already satisfied: numpy<2,>=1.26.0 in /Library/Frameworks/Python.framework/Versions/3.12/lib/python3.12/site-packages (from pandas) (1.26.2)\n",
      "Requirement already satisfied: python-dateutil>=2.8.2 in /Users/wmac/Library/Python/3.12/lib/python/site-packages (from pandas) (2.8.2)\n",
      "Requirement already satisfied: pytz>=2020.1 in /Library/Frameworks/Python.framework/Versions/3.12/lib/python3.12/site-packages (from pandas) (2023.3.post1)\n",
      "Requirement already satisfied: tzdata>=2022.1 in /Library/Frameworks/Python.framework/Versions/3.12/lib/python3.12/site-packages (from pandas) (2023.3)\n",
      "Requirement already satisfied: CoolProp==6.6.0 in /Library/Frameworks/Python.framework/Versions/3.12/lib/python3.12/site-packages (from pyfluids) (6.6.0)\n",
      "Requirement already satisfied: tomli==2.0.1 in /Library/Frameworks/Python.framework/Versions/3.12/lib/python3.12/site-packages (from pyfluids) (2.0.1)\n",
      "Requirement already satisfied: six>=1.5 in /Users/wmac/Library/Python/3.12/lib/python/site-packages (from python-dateutil>=2.8.2->pandas) (1.16.0)\n",
      "\n",
      "\u001b[1m[\u001b[0m\u001b[34;49mnotice\u001b[0m\u001b[1;39;49m]\u001b[0m\u001b[39;49m A new release of pip is available: \u001b[0m\u001b[31;49m23.2.1\u001b[0m\u001b[39;49m -> \u001b[0m\u001b[32;49m23.3.2\u001b[0m\n",
      "\u001b[1m[\u001b[0m\u001b[34;49mnotice\u001b[0m\u001b[1;39;49m]\u001b[0m\u001b[39;49m To update, run: \u001b[0m\u001b[32;49mpip3 install --upgrade pip\u001b[0m\n",
      "Note: you may need to restart the kernel to use updated packages.\n"
     ]
    },
    {
     "name": "stderr",
     "output_type": "stream",
     "text": [
      "Executing <Task pending name='Task-4' coro=<Kernel.dispatch_queue() running at /Users/wmac/Library/Python/3.12/lib/python/site-packages/ipykernel/kernelbase.py:524> wait_for=<Future pending cb=[Task.task_wakeup()] created at /Users/wmac/Library/Python/3.12/lib/python/site-packages/tornado/queues.py:248> cb=[IOLoop.add_future.<locals>.<lambda>() at /Users/wmac/Library/Python/3.12/lib/python/site-packages/tornado/ioloop.py:685] created at /Library/Frameworks/Python.framework/Versions/3.12/lib/python3.12/asyncio/tasks.py:685> took 5.140 seconds\n"
     ]
    }
   ],
   "source": [
    "%pip install pint pandas pyfluids\n",
    "\n",
    "import pandas as pd # This makes nice tables\n",
    "import pint # This handles units\n",
    "import pyfluids # This does the thermodynamics\n",
    "\n",
    "ureg = pint.UnitRegistry()"
   ]
  },
  {
   "cell_type": "markdown",
   "metadata": {},
   "source": [
    "## Implement the Tables from the Google Doc as Pandas DataFrames"
   ]
  },
  {
   "cell_type": "code",
   "execution_count": 16,
   "metadata": {},
   "outputs": [
    {
     "data": {
      "text/html": [
       "<div>\n",
       "<style scoped>\n",
       "    .dataframe tbody tr th:only-of-type {\n",
       "        vertical-align: middle;\n",
       "    }\n",
       "\n",
       "    .dataframe tbody tr th {\n",
       "        vertical-align: top;\n",
       "    }\n",
       "\n",
       "    .dataframe thead th {\n",
       "        text-align: right;\n",
       "    }\n",
       "</style>\n",
       "<table border=\"1\" class=\"dataframe\">\n",
       "  <thead>\n",
       "    <tr style=\"text-align: right;\">\n",
       "      <th></th>\n",
       "      <th>Ambient condition (°C)</th>\n",
       "      <th>T1 (°C)</th>\n",
       "      <th>T2 (°C)</th>\n",
       "      <th>T3 (°C)</th>\n",
       "      <th>T4 (°C)</th>\n",
       "      <th>T5 (°C)</th>\n",
       "      <th>T6 (°C)</th>\n",
       "      <th>P1 (MPa)</th>\n",
       "      <th>P2 (MPa)</th>\n",
       "      <th>m-dot (kg/s)</th>\n",
       "    </tr>\n",
       "  </thead>\n",
       "  <tbody>\n",
       "    <tr>\n",
       "      <th>0</th>\n",
       "      <td>-20 degree_Celsius</td>\n",
       "      <td>-20 degree_Celsius</td>\n",
       "      <td>-14 degree_Celsius</td>\n",
       "      <td>46 degree_Celsius</td>\n",
       "      <td>250 degree_Celsius</td>\n",
       "      <td>129 degree_Celsius</td>\n",
       "      <td>6.6 degree_Celsius</td>\n",
       "      <td>3.3 megapascal</td>\n",
       "      <td>15.0 megapascal</td>\n",
       "      <td>4.9 kilogram / second</td>\n",
       "    </tr>\n",
       "    <tr>\n",
       "      <th>1</th>\n",
       "      <td>-10 degree_Celsius</td>\n",
       "      <td>-10 degree_Celsius</td>\n",
       "      <td>-2 degree_Celsius</td>\n",
       "      <td>50 degree_Celsius</td>\n",
       "      <td>250 degree_Celsius</td>\n",
       "      <td>129 degree_Celsius</td>\n",
       "      <td>15.4 degree_Celsius</td>\n",
       "      <td>3.3 megapascal</td>\n",
       "      <td>15.0 megapascal</td>\n",
       "      <td>4.9 kilogram / second</td>\n",
       "    </tr>\n",
       "    <tr>\n",
       "      <th>2</th>\n",
       "      <td>0 degree_Celsius</td>\n",
       "      <td>0 degree_Celsius</td>\n",
       "      <td>10 degree_Celsius</td>\n",
       "      <td>58 degree_Celsius</td>\n",
       "      <td>250 degree_Celsius</td>\n",
       "      <td>135 degree_Celsius</td>\n",
       "      <td>28.8 degree_Celsius</td>\n",
       "      <td>3.9 megapascal</td>\n",
       "      <td>16.0 megapascal</td>\n",
       "      <td>5.2 kilogram / second</td>\n",
       "    </tr>\n",
       "    <tr>\n",
       "      <th>3</th>\n",
       "      <td>10 degree_Celsius</td>\n",
       "      <td>10 degree_Celsius</td>\n",
       "      <td>23 degree_Celsius</td>\n",
       "      <td>68 degree_Celsius</td>\n",
       "      <td>250 degree_Celsius</td>\n",
       "      <td>143 degree_Celsius</td>\n",
       "      <td>46.0 degree_Celsius</td>\n",
       "      <td>5.0 megapascal</td>\n",
       "      <td>18.0 megapascal</td>\n",
       "      <td>5.8 kilogram / second</td>\n",
       "    </tr>\n",
       "    <tr>\n",
       "      <th>4</th>\n",
       "      <td>20 degree_Celsius</td>\n",
       "      <td>20 degree_Celsius</td>\n",
       "      <td>38 degree_Celsius</td>\n",
       "      <td>80 degree_Celsius</td>\n",
       "      <td>250 degree_Celsius</td>\n",
       "      <td>150 degree_Celsius</td>\n",
       "      <td>63.9 degree_Celsius</td>\n",
       "      <td>6.2 megapascal</td>\n",
       "      <td>20.0 megapascal</td>\n",
       "      <td>6.4 kilogram / second</td>\n",
       "    </tr>\n",
       "    <tr>\n",
       "      <th>5</th>\n",
       "      <td>30 degree_Celsius</td>\n",
       "      <td>30 degree_Celsius</td>\n",
       "      <td>57 degree_Celsius</td>\n",
       "      <td>96 degree_Celsius</td>\n",
       "      <td>250 degree_Celsius</td>\n",
       "      <td>160 degree_Celsius</td>\n",
       "      <td>82.1 degree_Celsius</td>\n",
       "      <td>7.4 megapascal</td>\n",
       "      <td>20.7 megapascal</td>\n",
       "      <td>6.5 kilogram / second</td>\n",
       "    </tr>\n",
       "    <tr>\n",
       "      <th>6</th>\n",
       "      <td>40 degree_Celsius</td>\n",
       "      <td>40 degree_Celsius</td>\n",
       "      <td>71 degree_Celsius</td>\n",
       "      <td>117 degree_Celsius</td>\n",
       "      <td>250 degree_Celsius</td>\n",
       "      <td>181 degree_Celsius</td>\n",
       "      <td>94.6 degree_Celsius</td>\n",
       "      <td>9.2 megapascal</td>\n",
       "      <td>19.9 megapascal</td>\n",
       "      <td>5.5 kilogram / second</td>\n",
       "    </tr>\n",
       "    <tr>\n",
       "      <th>7</th>\n",
       "      <td>50 degree_Celsius</td>\n",
       "      <td>50 degree_Celsius</td>\n",
       "      <td>85 degree_Celsius</td>\n",
       "      <td>145 degree_Celsius</td>\n",
       "      <td>250 degree_Celsius</td>\n",
       "      <td>198 degree_Celsius</td>\n",
       "      <td>102.8 degree_Celsius</td>\n",
       "      <td>10.0 megapascal</td>\n",
       "      <td>17.8 megapascal</td>\n",
       "      <td>4.0 kilogram / second</td>\n",
       "    </tr>\n",
       "  </tbody>\n",
       "</table>\n",
       "</div>"
      ],
      "text/plain": [
       "  Ambient condition (°C)             T1 (°C)             T2 (°C)  \\\n",
       "0     -20 degree_Celsius  -20 degree_Celsius  -14 degree_Celsius   \n",
       "1     -10 degree_Celsius  -10 degree_Celsius   -2 degree_Celsius   \n",
       "2       0 degree_Celsius    0 degree_Celsius   10 degree_Celsius   \n",
       "3      10 degree_Celsius   10 degree_Celsius   23 degree_Celsius   \n",
       "4      20 degree_Celsius   20 degree_Celsius   38 degree_Celsius   \n",
       "5      30 degree_Celsius   30 degree_Celsius   57 degree_Celsius   \n",
       "6      40 degree_Celsius   40 degree_Celsius   71 degree_Celsius   \n",
       "7      50 degree_Celsius   50 degree_Celsius   85 degree_Celsius   \n",
       "\n",
       "              T3 (°C)             T4 (°C)             T5 (°C)  \\\n",
       "0   46 degree_Celsius  250 degree_Celsius  129 degree_Celsius   \n",
       "1   50 degree_Celsius  250 degree_Celsius  129 degree_Celsius   \n",
       "2   58 degree_Celsius  250 degree_Celsius  135 degree_Celsius   \n",
       "3   68 degree_Celsius  250 degree_Celsius  143 degree_Celsius   \n",
       "4   80 degree_Celsius  250 degree_Celsius  150 degree_Celsius   \n",
       "5   96 degree_Celsius  250 degree_Celsius  160 degree_Celsius   \n",
       "6  117 degree_Celsius  250 degree_Celsius  181 degree_Celsius   \n",
       "7  145 degree_Celsius  250 degree_Celsius  198 degree_Celsius   \n",
       "\n",
       "                T6 (°C)         P1 (MPa)         P2 (MPa)  \\\n",
       "0    6.6 degree_Celsius   3.3 megapascal  15.0 megapascal   \n",
       "1   15.4 degree_Celsius   3.3 megapascal  15.0 megapascal   \n",
       "2   28.8 degree_Celsius   3.9 megapascal  16.0 megapascal   \n",
       "3   46.0 degree_Celsius   5.0 megapascal  18.0 megapascal   \n",
       "4   63.9 degree_Celsius   6.2 megapascal  20.0 megapascal   \n",
       "5   82.1 degree_Celsius   7.4 megapascal  20.7 megapascal   \n",
       "6   94.6 degree_Celsius   9.2 megapascal  19.9 megapascal   \n",
       "7  102.8 degree_Celsius  10.0 megapascal  17.8 megapascal   \n",
       "\n",
       "            m-dot (kg/s)  \n",
       "0  4.9 kilogram / second  \n",
       "1  4.9 kilogram / second  \n",
       "2  5.2 kilogram / second  \n",
       "3  5.8 kilogram / second  \n",
       "4  6.4 kilogram / second  \n",
       "5  6.5 kilogram / second  \n",
       "6  5.5 kilogram / second  \n",
       "7  4.0 kilogram / second  "
      ]
     },
     "execution_count": 16,
     "metadata": {},
     "output_type": "execute_result"
    },
    {
     "name": "stderr",
     "output_type": "stream",
     "text": [
      "Executing <Task pending name='Task-4' coro=<Kernel.dispatch_queue() running at /Users/wmac/Library/Python/3.12/lib/python/site-packages/ipykernel/kernelbase.py:524> wait_for=<Future pending cb=[Task.task_wakeup()] created at /Users/wmac/Library/Python/3.12/lib/python/site-packages/tornado/queues.py:248> cb=[IOLoop.add_future.<locals>.<lambda>() at /Users/wmac/Library/Python/3.12/lib/python/site-packages/tornado/ioloop.py:685] created at /Library/Frameworks/Python.framework/Versions/3.12/lib/python3.12/asyncio/tasks.py:685> took 0.416 seconds\n"
     ]
    }
   ],
   "source": [
    "table = [\n",
    "  {'Ambient condition (°C)': -20, 'T1 (°C)': -20, 'T2 (°C)': -14, 'T3 (°C)': 46, 'T4 (°C)': 250, 'T5 (°C)': 129, 'T6 (°C)': 6.6, 'P1 (MPa)': 3.3, 'P2 (MPa)': 15, 'm-dot (kg/s)': 4.9},\n",
    "  {'Ambient condition (°C)': -10, 'T1 (°C)': -10, 'T2 (°C)': -2, 'T3 (°C)': 50, 'T4 (°C)': 250, 'T5 (°C)': 129, 'T6 (°C)': 15.4, 'P1 (MPa)': 3.3, 'P2 (MPa)': 15, 'm-dot (kg/s)': 4.9},\n",
    "  {'Ambient condition (°C)': 0, 'T1 (°C)': 0, 'T2 (°C)': 10, 'T3 (°C)': 58, 'T4 (°C)': 250, 'T5 (°C)': 135, 'T6 (°C)': 28.8, 'P1 (MPa)': 3.9, 'P2 (MPa)': 16, 'm-dot (kg/s)': 5.2},\n",
    "  {'Ambient condition (°C)': 10, 'T1 (°C)': 10, 'T2 (°C)': 23, 'T3 (°C)': 68, 'T4 (°C)': 250, 'T5 (°C)': 143, 'T6 (°C)': 46.0, 'P1 (MPa)': 5, 'P2 (MPa)': 18, 'm-dot (kg/s)': 5.8},\n",
    "  {'Ambient condition (°C)': 20, 'T1 (°C)': 20, 'T2 (°C)': 38, 'T3 (°C)': 80, 'T4 (°C)': 250, 'T5 (°C)': 150, 'T6 (°C)': 63.9, 'P1 (MPa)': 6.2, 'P2 (MPa)': 20, 'm-dot (kg/s)': 6.4},\n",
    "  {'Ambient condition (°C)': 30, 'T1 (°C)': 30, 'T2 (°C)': 57, 'T3 (°C)': 96, 'T4 (°C)': 250, 'T5 (°C)': 160, 'T6 (°C)': 82.1, 'P1 (MPa)': 7.4, 'P2 (MPa)': 20.7, 'm-dot (kg/s)': 6.5},\n",
    "  {'Ambient condition (°C)': 40, 'T1 (°C)': 40, 'T2 (°C)': 71, 'T3 (°C)': 117, 'T4 (°C)': 250, 'T5 (°C)': 181, 'T6 (°C)': 94.6, 'P1 (MPa)': 9.2, 'P2 (MPa)': 19.9, 'm-dot (kg/s)': 5.5},\n",
    "  {'Ambient condition (°C)': 50, 'T1 (°C)': 50, 'T2 (°C)': 85, 'T3 (°C)': 145, 'T4 (°C)': 250, 'T5 (°C)': 198, 'T6 (°C)': 102.8, 'P1 (MPa)': 10, 'P2 (MPa)': 17.8, 'm-dot (kg/s)': 4}\n",
    "]\n",
    "\n",
    "operating_conditions = pd.DataFrame(table)\n",
    "\n",
    "# Apply units to the columns\n",
    "for column in operating_conditions.columns:\n",
    "  if column.endswith('(°C)'):\n",
    "    operating_conditions[column] = operating_conditions[column].apply(lambda x: ureg.Quantity(x, ureg.degC))\n",
    "  elif column.endswith('(MPa)'):\n",
    "    operating_conditions[column] = operating_conditions[column].apply(lambda x: ureg.Quantity(x, ureg.MPa))\n",
    "  elif column.endswith('(kg/s)'):\n",
    "    operating_conditions[column] = operating_conditions[column].apply(lambda x: ureg.Quantity(x, ureg.kg / ureg.s))\n",
    "\n",
    "operating_conditions"
   ]
  },
  {
   "cell_type": "markdown",
   "metadata": {},
   "source": [
    "* P2 = P3 = P4 \n",
    "* P1 = P5 = P6"
   ]
  },
  {
   "cell_type": "code",
   "execution_count": 19,
   "metadata": {},
   "outputs": [
    {
     "data": {
      "text/html": [
       "<div>\n",
       "<style scoped>\n",
       "    .dataframe tbody tr th:only-of-type {\n",
       "        vertical-align: middle;\n",
       "    }\n",
       "\n",
       "    .dataframe tbody tr th {\n",
       "        vertical-align: top;\n",
       "    }\n",
       "\n",
       "    .dataframe thead th {\n",
       "        text-align: right;\n",
       "    }\n",
       "</style>\n",
       "<table border=\"1\" class=\"dataframe\">\n",
       "  <thead>\n",
       "    <tr style=\"text-align: right;\">\n",
       "      <th></th>\n",
       "      <th>Ambient condition (°C)</th>\n",
       "      <th>T1 (°C)</th>\n",
       "      <th>T2 (°C)</th>\n",
       "      <th>T3 (°C)</th>\n",
       "      <th>T4 (°C)</th>\n",
       "      <th>T5 (°C)</th>\n",
       "      <th>T6 (°C)</th>\n",
       "      <th>P1 (MPa)</th>\n",
       "      <th>P2 (MPa)</th>\n",
       "      <th>m-dot (kg/s)</th>\n",
       "    </tr>\n",
       "  </thead>\n",
       "  <tbody>\n",
       "    <tr>\n",
       "      <th>0</th>\n",
       "      <td>20 degree_Celsius</td>\n",
       "      <td>20 degree_Celsius</td>\n",
       "      <td>27 degree_Celsius</td>\n",
       "      <td>207 degree_Celsius</td>\n",
       "      <td>250 degree_Celsius</td>\n",
       "      <td>238 degree_Celsius</td>\n",
       "      <td>73 degree_Celsius</td>\n",
       "      <td>6.2 megapascal</td>\n",
       "      <td>11 megapascal</td>\n",
       "      <td>3 kilogram / second</td>\n",
       "    </tr>\n",
       "  </tbody>\n",
       "</table>\n",
       "</div>"
      ],
      "text/plain": [
       "  Ambient condition (°C)            T1 (°C)            T2 (°C)  \\\n",
       "0      20 degree_Celsius  20 degree_Celsius  27 degree_Celsius   \n",
       "\n",
       "              T3 (°C)             T4 (°C)             T5 (°C)  \\\n",
       "0  207 degree_Celsius  250 degree_Celsius  238 degree_Celsius   \n",
       "\n",
       "             T6 (°C)        P1 (MPa)       P2 (MPa)         m-dot (kg/s)  \n",
       "0  73 degree_Celsius  6.2 megapascal  11 megapascal  3 kilogram / second  "
      ]
     },
     "execution_count": 19,
     "metadata": {},
     "output_type": "execute_result"
    }
   ],
   "source": [
    "startup_conditions = pd.DataFrame({'Ambient condition (°C)': [20], 'T1 (°C)': [20], 'T2 (°C)': [27], 'T3 (°C)': [207], 'T4 (°C)': [250], 'T5 (°C)': [238], 'T6 (°C)': [73], 'P1 (MPa)': [6.2], 'P2 (MPa)': [11], 'm-dot (kg/s)': [3]})\n",
    "\n",
    "for column in startup_conditions.columns:\n",
    "  if column.endswith('(°C)'):\n",
    "    startup_conditions[column] = startup_conditions[column].apply(lambda x: ureg.Quantity(x, ureg.degC))\n",
    "  elif column.endswith('(MPa)'):\n",
    "    startup_conditions[column] = startup_conditions[column].apply(lambda x: ureg.Quantity(x, ureg.MPa))\n",
    "  elif column.endswith('(kg/s)'):\n",
    "    startup_conditions[column] = startup_conditions[column].apply(lambda x: ureg.Quantity(x, ureg.kg / ureg.s))\n",
    "\n",
    "startup_conditions"
   ]
  },
  {
   "cell_type": "code",
   "execution_count": 26,
   "metadata": {},
   "outputs": [
    {
     "data": {
      "text/html": [
       "<div>\n",
       "<style scoped>\n",
       "    .dataframe tbody tr th:only-of-type {\n",
       "        vertical-align: middle;\n",
       "    }\n",
       "\n",
       "    .dataframe tbody tr th {\n",
       "        vertical-align: top;\n",
       "    }\n",
       "\n",
       "    .dataframe thead th {\n",
       "        text-align: right;\n",
       "    }\n",
       "</style>\n",
       "<table border=\"1\" class=\"dataframe\">\n",
       "  <thead>\n",
       "    <tr style=\"text-align: right;\">\n",
       "      <th></th>\n",
       "      <th>Temperature (°C)</th>\n",
       "      <th>Pressure differential (MPa)</th>\n",
       "      <th>Mass flow (kg/s)</th>\n",
       "    </tr>\n",
       "  </thead>\n",
       "  <tbody>\n",
       "    <tr>\n",
       "      <th>0</th>\n",
       "      <td>150 degree_Celsius</td>\n",
       "      <td>2.1 megapascal</td>\n",
       "      <td>0.26 kilogram / second</td>\n",
       "    </tr>\n",
       "  </tbody>\n",
       "</table>\n",
       "</div>"
      ],
      "text/plain": [
       "     Temperature (°C) Pressure differential (MPa)        Mass flow (kg/s)\n",
       "0  150 degree_Celsius              2.1 megapascal  0.26 kilogram / second"
      ]
     },
     "execution_count": 26,
     "metadata": {},
     "output_type": "execute_result"
    }
   ],
   "source": [
    "data = {'Temperature (°C)': [150],\n",
    "    'Pressure differential (MPa)': [2.1],\n",
    "    'Mass flow (kg/s)': [0.26]}\n",
    "\n",
    "bearing_requirements = pd.DataFrame(data)\n",
    "\n",
    "# Apply units to the columns\n",
    "for column in bearing_requirements.columns:\n",
    "  if column.endswith('(°C)'):\n",
    "    bearing_requirements[column] = bearing_requirements[column].apply(lambda x: ureg.Quantity(x, ureg.degC))\n",
    "  elif column.endswith('(MPa)'):\n",
    "    bearing_requirements[column] = bearing_requirements[column].apply(lambda x: ureg.Quantity(x, ureg.MPa))\n",
    "  elif column.endswith('(kg/s)'):\n",
    "    bearing_requirements[column] = bearing_requirements[column].apply(lambda x: ureg.Quantity(x, ureg.kg / ureg.s))\n",
    "\n",
    "bearing_requirements\n"
   ]
  },
  {
   "cell_type": "markdown",
   "metadata": {},
   "source": [
    "## Modeling"
   ]
  },
  {
   "cell_type": "markdown",
   "metadata": {},
   "source": [
    "### CO_2 as a working fluid"
   ]
  },
  {
   "cell_type": "code",
   "execution_count": 47,
   "metadata": {},
   "outputs": [
    {
     "name": "stdout",
     "output_type": "stream",
     "text": [
      "468540.59103611164 2603.75424704758 2.108951810313363\n"
     ]
    }
   ],
   "source": [
    "from pyfluids import Fluid, FluidsList, Input\n",
    "\n",
    "c_ohh_two = Fluid(FluidsList.CarbonDioxide)\n",
    "\n",
    "\n",
    "cold_two = c_ohh_two.with_state(\n",
    "    Input.pressure(100e3), Input.temperature(-20)\n",
    ")\n",
    "print(cold_two.enthalpy, cold_two.entropy, cold_two.density)"
   ]
  },
  {
   "cell_type": "markdown",
   "metadata": {},
   "source": [
    "### Valve Model from First Principles"
   ]
  },
  {
   "cell_type": "code",
   "execution_count": 69,
   "metadata": {},
   "outputs": [
    {
     "name": "stderr",
     "output_type": "stream",
     "text": [
      "Executing <Handle BaseAsyncIOLoop._handle_events(40, 1) created at /Library/Frameworks/Python.framework/Versions/3.12/lib/python3.12/asyncio/selector_events.py:276> took 0.186 seconds\n"
     ]
    },
    {
     "name": "stdout",
     "output_type": "stream",
     "text": [
      "C_V: 0.19002, P_3: 6.588e+06, t_3: 157.87, rho_3: 88.677\n"
     ]
    },
    {
     "name": "stderr",
     "output_type": "stream",
     "text": [
      "Executing <Task pending name='Task-4' coro=<Kernel.dispatch_queue() running at /Users/wmac/Library/Python/3.12/lib/python/site-packages/ipykernel/kernelbase.py:524> wait_for=<Future pending cb=[Task.task_wakeup()] created at /Users/wmac/Library/Python/3.12/lib/python/site-packages/tornado/queues.py:248> cb=[IOLoop.add_future.<locals>.<lambda>() at /Users/wmac/Library/Python/3.12/lib/python/site-packages/tornado/ioloop.py:685] created at /Library/Frameworks/Python.framework/Versions/3.12/lib/python3.12/asyncio/tasks.py:685> took 0.357 seconds\n"
     ]
    }
   ],
   "source": [
    "def valve_calc(t_one, P_one, m_dot, C_d = 0.61, increment = 0.1e6):\n",
    "  # compute input enthalpy, entropy, & density with fluids\n",
    "  state_one = c_ohh_two.with_state(\n",
    "    Input.pressure(P_one), Input.temperature(t_one)\n",
    "  )\n",
    "  h_one = state_one.enthalpy\n",
    "  s_one = state_one.entropy\n",
    "  rho_one = state_one.density\n",
    "\n",
    "  # Assume the velocity is zero at the inlet\n",
    "  V_one = 0  \n",
    "  \n",
    "  # Isentropic expansion to the throttle point\n",
    "  s_two = s_one\n",
    "\n",
    "  # Init our outputs before we loop (these values do not matter)\n",
    "  V_two = 0\n",
    "  c_two = 100.0\n",
    "\n",
    "  P_two = 40e6;\n",
    "\n",
    "  # Guess a pressure for the choke and iterate until the velocity is mach one or we drop below the pressure floor\n",
    "  while V_two < c_two:\n",
    "    # h_two, rho_two, c_two = lookup(s_two, P_two)\n",
    "    state_two = c_ohh_two.with_state(\n",
    "      Input.pressure(P_two), Input.entropy(s_two)\n",
    "    )\n",
    "    h_two = state_two.enthalpy\n",
    "    rho_two = state_two.density\n",
    "    c_two = state_two.sound_speed\n",
    "\n",
    "    discriminant = 2 * (h_one - h_two) + V_one**2\n",
    "    if (discriminant > 0):\n",
    "      V_two = discriminant ** 0.5\n",
    "\n",
    "      P_three = P_two * C_d\n",
    "\n",
    "    P_two -= increment\n",
    "  \n",
    "  A_two = m_dot / (V_two * rho_two)\n",
    "\n",
    "  C_V = 58888.5 * C_d * A_two\n",
    "\n",
    "  h_three = h_one\n",
    "\n",
    "  state_three = c_ohh_two.with_state(\n",
    "    Input.pressure(P_three), Input.enthalpy(h_three)\n",
    "  )\n",
    "\n",
    "  t_three = state_three.temperature\n",
    "  rho_three = state_three.density\n",
    "\n",
    "  return C_V, P_three, t_three, rho_three\n",
    "\n",
    "C_V, P_three, t_three, rho_three = valve_calc(t_one=200, P_one=20e6, m_dot=0.26)\n",
    "\n",
    "print(\"C_V: {:.5}, P_3: {:.5}, t_3: {:.5}, rho_3: {:.5}\".format(C_V, P_three, t_three, rho_three))\n"
   ]
  },
  {
   "cell_type": "markdown",
   "metadata": {},
   "source": [
    "### Pipe Adding Model"
   ]
  },
  {
   "cell_type": "code",
   "execution_count": 72,
   "metadata": {},
   "outputs": [
    {
     "name": "stdout",
     "output_type": "stream",
     "text": [
      "m_dot_out: 0.88, h_out: 0.44091\n"
     ]
    }
   ],
   "source": [
    "def pipe_add(m_dot_one, h_one, m_dot_two, h_two):\n",
    "  m_dot_out = m_dot_one + m_dot_two\n",
    "  h_out = (m_dot_one * h_one + m_dot_two * h_two) / m_dot_out\n",
    "\n",
    "  return m_dot_out, h_out\n",
    "\n",
    "m_dot_out, h_out = pipe_add(m_dot_one=0.26, h_one=0.3, m_dot_two=0.62, h_two=0.5)\n",
    "print(\"m_dot_out: {:.5}, h_out: {:.5}\".format(m_dot_out, h_out))"
   ]
  }
 ],
 "metadata": {
  "language_info": {
   "name": "python"
  }
 },
 "nbformat": 4,
 "nbformat_minor": 2
}
