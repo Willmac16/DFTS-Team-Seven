{
 "cells": [
  {
   "cell_type": "markdown",
   "metadata": {},
   "source": [
    "## Heat Engine State Table"
   ]
  },
  {
   "cell_type": "markdown",
   "metadata": {},
   "source": [
    "## Install and import useful libraries"
   ]
  },
  {
   "cell_type": "code",
   "execution_count": 1,
   "metadata": {},
   "outputs": [
    {
     "name": "stdout",
     "output_type": "stream",
     "text": [
      "Requirement already satisfied: pint in /Library/Frameworks/Python.framework/Versions/3.12/lib/python3.12/site-packages (0.23)\n",
      "Requirement already satisfied: pandas in /Library/Frameworks/Python.framework/Versions/3.12/lib/python3.12/site-packages (2.1.3)\n",
      "Requirement already satisfied: pyfluids in /Library/Frameworks/Python.framework/Versions/3.12/lib/python3.12/site-packages (2.6.0)\n",
      "Requirement already satisfied: typing-extensions in /Library/Frameworks/Python.framework/Versions/3.12/lib/python3.12/site-packages (from pint) (4.8.0)\n",
      "Requirement already satisfied: numpy<2,>=1.26.0 in /Library/Frameworks/Python.framework/Versions/3.12/lib/python3.12/site-packages (from pandas) (1.26.2)\n",
      "Requirement already satisfied: python-dateutil>=2.8.2 in /Users/wmac/Library/Python/3.12/lib/python/site-packages (from pandas) (2.8.2)\n",
      "Requirement already satisfied: pytz>=2020.1 in /Library/Frameworks/Python.framework/Versions/3.12/lib/python3.12/site-packages (from pandas) (2023.3.post1)\n",
      "Requirement already satisfied: tzdata>=2022.1 in /Library/Frameworks/Python.framework/Versions/3.12/lib/python3.12/site-packages (from pandas) (2023.3)\n",
      "Requirement already satisfied: CoolProp==6.6.0 in /Library/Frameworks/Python.framework/Versions/3.12/lib/python3.12/site-packages (from pyfluids) (6.6.0)\n",
      "Requirement already satisfied: tomli==2.0.1 in /Library/Frameworks/Python.framework/Versions/3.12/lib/python3.12/site-packages (from pyfluids) (2.0.1)\n",
      "Requirement already satisfied: six>=1.5 in /Users/wmac/Library/Python/3.12/lib/python/site-packages (from python-dateutil>=2.8.2->pandas) (1.16.0)\n",
      "\n",
      "\u001b[1m[\u001b[0m\u001b[34;49mnotice\u001b[0m\u001b[1;39;49m]\u001b[0m\u001b[39;49m A new release of pip is available: \u001b[0m\u001b[31;49m23.2.1\u001b[0m\u001b[39;49m -> \u001b[0m\u001b[32;49m23.3.2\u001b[0m\n",
      "\u001b[1m[\u001b[0m\u001b[34;49mnotice\u001b[0m\u001b[1;39;49m]\u001b[0m\u001b[39;49m To update, run: \u001b[0m\u001b[32;49mpip3 install --upgrade pip\u001b[0m\n",
      "Note: you may need to restart the kernel to use updated packages.\n"
     ]
    }
   ],
   "source": [
    "%pip install pint pandas pyfluids\n",
    "\n",
    "import pandas as pd # This makes nice tables\n",
    "import pyfluids # This does the thermodynamics\n",
    "import pint # This handles units\n",
    "\n",
    "ureg = pint.UnitRegistry()"
   ]
  },
  {
   "cell_type": "markdown",
   "metadata": {},
   "source": [
    "## Implement the Tables from the Google Doc as Pandas DataFrames"
   ]
  },
  {
   "cell_type": "code",
   "execution_count": 2,
   "metadata": {},
   "outputs": [
    {
     "data": {
      "text/html": [
       "<div>\n",
       "<style scoped>\n",
       "    .dataframe tbody tr th:only-of-type {\n",
       "        vertical-align: middle;\n",
       "    }\n",
       "\n",
       "    .dataframe tbody tr th {\n",
       "        vertical-align: top;\n",
       "    }\n",
       "\n",
       "    .dataframe thead th {\n",
       "        text-align: right;\n",
       "    }\n",
       "</style>\n",
       "<table border=\"1\" class=\"dataframe\">\n",
       "  <thead>\n",
       "    <tr style=\"text-align: right;\">\n",
       "      <th></th>\n",
       "      <th>Ambient condition (°C)</th>\n",
       "      <th>T1 (°C)</th>\n",
       "      <th>T2 (°C)</th>\n",
       "      <th>T3 (°C)</th>\n",
       "      <th>T4 (°C)</th>\n",
       "      <th>T5 (°C)</th>\n",
       "      <th>T6 (°C)</th>\n",
       "      <th>P1 (Pa)</th>\n",
       "      <th>P2 (Pa)</th>\n",
       "      <th>m-dot (kg/s)</th>\n",
       "    </tr>\n",
       "  </thead>\n",
       "  <tbody>\n",
       "    <tr>\n",
       "      <th>0</th>\n",
       "      <td>-20</td>\n",
       "      <td>-20</td>\n",
       "      <td>-14</td>\n",
       "      <td>46</td>\n",
       "      <td>250</td>\n",
       "      <td>129</td>\n",
       "      <td>6.6</td>\n",
       "      <td>3300000.0</td>\n",
       "      <td>15000000.0</td>\n",
       "      <td>4.9</td>\n",
       "    </tr>\n",
       "    <tr>\n",
       "      <th>1</th>\n",
       "      <td>-10</td>\n",
       "      <td>-10</td>\n",
       "      <td>-2</td>\n",
       "      <td>50</td>\n",
       "      <td>250</td>\n",
       "      <td>129</td>\n",
       "      <td>15.4</td>\n",
       "      <td>3300000.0</td>\n",
       "      <td>15000000.0</td>\n",
       "      <td>4.9</td>\n",
       "    </tr>\n",
       "    <tr>\n",
       "      <th>2</th>\n",
       "      <td>0</td>\n",
       "      <td>0</td>\n",
       "      <td>10</td>\n",
       "      <td>58</td>\n",
       "      <td>250</td>\n",
       "      <td>135</td>\n",
       "      <td>28.8</td>\n",
       "      <td>3900000.0</td>\n",
       "      <td>16000000.0</td>\n",
       "      <td>5.2</td>\n",
       "    </tr>\n",
       "    <tr>\n",
       "      <th>3</th>\n",
       "      <td>10</td>\n",
       "      <td>10</td>\n",
       "      <td>23</td>\n",
       "      <td>68</td>\n",
       "      <td>250</td>\n",
       "      <td>143</td>\n",
       "      <td>46.0</td>\n",
       "      <td>5000000.0</td>\n",
       "      <td>18000000.0</td>\n",
       "      <td>5.8</td>\n",
       "    </tr>\n",
       "    <tr>\n",
       "      <th>4</th>\n",
       "      <td>20</td>\n",
       "      <td>20</td>\n",
       "      <td>38</td>\n",
       "      <td>80</td>\n",
       "      <td>250</td>\n",
       "      <td>150</td>\n",
       "      <td>63.9</td>\n",
       "      <td>6200000.0</td>\n",
       "      <td>20000000.0</td>\n",
       "      <td>6.4</td>\n",
       "    </tr>\n",
       "    <tr>\n",
       "      <th>5</th>\n",
       "      <td>30</td>\n",
       "      <td>30</td>\n",
       "      <td>57</td>\n",
       "      <td>96</td>\n",
       "      <td>250</td>\n",
       "      <td>160</td>\n",
       "      <td>82.1</td>\n",
       "      <td>7400000.0</td>\n",
       "      <td>20700000.0</td>\n",
       "      <td>6.5</td>\n",
       "    </tr>\n",
       "    <tr>\n",
       "      <th>6</th>\n",
       "      <td>40</td>\n",
       "      <td>40</td>\n",
       "      <td>71</td>\n",
       "      <td>117</td>\n",
       "      <td>250</td>\n",
       "      <td>181</td>\n",
       "      <td>94.6</td>\n",
       "      <td>9200000.0</td>\n",
       "      <td>19900000.0</td>\n",
       "      <td>5.5</td>\n",
       "    </tr>\n",
       "    <tr>\n",
       "      <th>7</th>\n",
       "      <td>50</td>\n",
       "      <td>50</td>\n",
       "      <td>85</td>\n",
       "      <td>145</td>\n",
       "      <td>250</td>\n",
       "      <td>198</td>\n",
       "      <td>102.8</td>\n",
       "      <td>10000000.0</td>\n",
       "      <td>17800000.0</td>\n",
       "      <td>4.0</td>\n",
       "    </tr>\n",
       "  </tbody>\n",
       "</table>\n",
       "</div>"
      ],
      "text/plain": [
       "   Ambient condition (°C)  T1 (°C)  T2 (°C)  T3 (°C)  T4 (°C)  T5 (°C)  \\\n",
       "0                     -20      -20      -14       46      250      129   \n",
       "1                     -10      -10       -2       50      250      129   \n",
       "2                       0        0       10       58      250      135   \n",
       "3                      10       10       23       68      250      143   \n",
       "4                      20       20       38       80      250      150   \n",
       "5                      30       30       57       96      250      160   \n",
       "6                      40       40       71      117      250      181   \n",
       "7                      50       50       85      145      250      198   \n",
       "\n",
       "   T6 (°C)     P1 (Pa)     P2 (Pa)  m-dot (kg/s)  \n",
       "0      6.6   3300000.0  15000000.0           4.9  \n",
       "1     15.4   3300000.0  15000000.0           4.9  \n",
       "2     28.8   3900000.0  16000000.0           5.2  \n",
       "3     46.0   5000000.0  18000000.0           5.8  \n",
       "4     63.9   6200000.0  20000000.0           6.4  \n",
       "5     82.1   7400000.0  20700000.0           6.5  \n",
       "6     94.6   9200000.0  19900000.0           5.5  \n",
       "7    102.8  10000000.0  17800000.0           4.0  "
      ]
     },
     "execution_count": 26,
     "metadata": {},
     "output_type": "execute_result"
    },
    {
     "name": "stderr",
     "output_type": "stream",
     "text": [
      "Executing <Task pending name='Task-4' coro=<Kernel.dispatch_queue() running at /Users/wmac/Library/Python/3.12/lib/python/site-packages/ipykernel/kernelbase.py:524> wait_for=<Future pending cb=[Task.task_wakeup()] created at /Users/wmac/Library/Python/3.12/lib/python/site-packages/tornado/queues.py:248> cb=[IOLoop.add_future.<locals>.<lambda>() at /Users/wmac/Library/Python/3.12/lib/python/site-packages/tornado/ioloop.py:685] created at /Library/Frameworks/Python.framework/Versions/3.12/lib/python3.12/asyncio/tasks.py:685> took 5.088 seconds\n"
     ]
    },
    {
     "data": {
      "text/html": [
       "<div>\n",
       "<style scoped>\n",
       "    .dataframe tbody tr th:only-of-type {\n",
       "        vertical-align: middle;\n",
       "    }\n",
       "\n",
       "    .dataframe tbody tr th {\n",
       "        vertical-align: top;\n",
       "    }\n",
       "\n",
       "    .dataframe thead th {\n",
       "        text-align: right;\n",
       "    }\n",
       "</style>\n",
       "<table border=\"1\" class=\"dataframe\">\n",
       "  <thead>\n",
       "    <tr style=\"text-align: right;\">\n",
       "      <th></th>\n",
       "      <th>Ambient condition (°C)</th>\n",
       "      <th>T1 (°C)</th>\n",
       "      <th>T2 (°C)</th>\n",
       "      <th>T3 (°C)</th>\n",
       "      <th>T4 (°C)</th>\n",
       "      <th>T5 (°C)</th>\n",
       "      <th>T6 (°C)</th>\n",
       "      <th>P1 (Pa)</th>\n",
       "      <th>P2 (Pa)</th>\n",
       "      <th>m-dot (kg/s)</th>\n",
       "    </tr>\n",
       "  </thead>\n",
       "  <tbody>\n",
       "    <tr>\n",
       "      <th>0</th>\n",
       "      <td>-20</td>\n",
       "      <td>-20</td>\n",
       "      <td>-14</td>\n",
       "      <td>46</td>\n",
       "      <td>250</td>\n",
       "      <td>129</td>\n",
       "      <td>6.6</td>\n",
       "      <td>3300000.0</td>\n",
       "      <td>15000000.0</td>\n",
       "      <td>4.9</td>\n",
       "    </tr>\n",
       "    <tr>\n",
       "      <th>1</th>\n",
       "      <td>-10</td>\n",
       "      <td>-10</td>\n",
       "      <td>-2</td>\n",
       "      <td>50</td>\n",
       "      <td>250</td>\n",
       "      <td>129</td>\n",
       "      <td>15.4</td>\n",
       "      <td>3300000.0</td>\n",
       "      <td>15000000.0</td>\n",
       "      <td>4.9</td>\n",
       "    </tr>\n",
       "    <tr>\n",
       "      <th>2</th>\n",
       "      <td>0</td>\n",
       "      <td>0</td>\n",
       "      <td>10</td>\n",
       "      <td>58</td>\n",
       "      <td>250</td>\n",
       "      <td>135</td>\n",
       "      <td>28.8</td>\n",
       "      <td>3900000.0</td>\n",
       "      <td>16000000.0</td>\n",
       "      <td>5.2</td>\n",
       "    </tr>\n",
       "    <tr>\n",
       "      <th>3</th>\n",
       "      <td>10</td>\n",
       "      <td>10</td>\n",
       "      <td>23</td>\n",
       "      <td>68</td>\n",
       "      <td>250</td>\n",
       "      <td>143</td>\n",
       "      <td>46.0</td>\n",
       "      <td>5000000.0</td>\n",
       "      <td>18000000.0</td>\n",
       "      <td>5.8</td>\n",
       "    </tr>\n",
       "    <tr>\n",
       "      <th>4</th>\n",
       "      <td>20</td>\n",
       "      <td>20</td>\n",
       "      <td>38</td>\n",
       "      <td>80</td>\n",
       "      <td>250</td>\n",
       "      <td>150</td>\n",
       "      <td>63.9</td>\n",
       "      <td>6200000.0</td>\n",
       "      <td>20000000.0</td>\n",
       "      <td>6.4</td>\n",
       "    </tr>\n",
       "    <tr>\n",
       "      <th>5</th>\n",
       "      <td>30</td>\n",
       "      <td>30</td>\n",
       "      <td>57</td>\n",
       "      <td>96</td>\n",
       "      <td>250</td>\n",
       "      <td>160</td>\n",
       "      <td>82.1</td>\n",
       "      <td>7400000.0</td>\n",
       "      <td>20700000.0</td>\n",
       "      <td>6.5</td>\n",
       "    </tr>\n",
       "    <tr>\n",
       "      <th>6</th>\n",
       "      <td>40</td>\n",
       "      <td>40</td>\n",
       "      <td>71</td>\n",
       "      <td>117</td>\n",
       "      <td>250</td>\n",
       "      <td>181</td>\n",
       "      <td>94.6</td>\n",
       "      <td>9200000.0</td>\n",
       "      <td>19900000.0</td>\n",
       "      <td>5.5</td>\n",
       "    </tr>\n",
       "    <tr>\n",
       "      <th>7</th>\n",
       "      <td>50</td>\n",
       "      <td>50</td>\n",
       "      <td>85</td>\n",
       "      <td>145</td>\n",
       "      <td>250</td>\n",
       "      <td>198</td>\n",
       "      <td>102.8</td>\n",
       "      <td>10000000.0</td>\n",
       "      <td>17800000.0</td>\n",
       "      <td>4.0</td>\n",
       "    </tr>\n",
       "  </tbody>\n",
       "</table>\n",
       "</div>"
      ],
      "text/plain": [
       "   Ambient condition (°C)  T1 (°C)  T2 (°C)  T3 (°C)  T4 (°C)  T5 (°C)  \\\n",
       "0                     -20      -20      -14       46      250      129   \n",
       "1                     -10      -10       -2       50      250      129   \n",
       "2                       0        0       10       58      250      135   \n",
       "3                      10       10       23       68      250      143   \n",
       "4                      20       20       38       80      250      150   \n",
       "5                      30       30       57       96      250      160   \n",
       "6                      40       40       71      117      250      181   \n",
       "7                      50       50       85      145      250      198   \n",
       "\n",
       "   T6 (°C)     P1 (Pa)     P2 (Pa)  m-dot (kg/s)  \n",
       "0      6.6   3300000.0  15000000.0           4.9  \n",
       "1     15.4   3300000.0  15000000.0           4.9  \n",
       "2     28.8   3900000.0  16000000.0           5.2  \n",
       "3     46.0   5000000.0  18000000.0           5.8  \n",
       "4     63.9   6200000.0  20000000.0           6.4  \n",
       "5     82.1   7400000.0  20700000.0           6.5  \n",
       "6     94.6   9200000.0  19900000.0           5.5  \n",
       "7    102.8  10000000.0  17800000.0           4.0  "
      ]
     },
     "execution_count": 2,
     "metadata": {},
     "output_type": "execute_result"
    }
   ],
   "source": [
    "table = [\n",
    "  {'Ambient condition (°C)': -20, 'T1 (°C)': -20, 'T2 (°C)': -14, 'T3 (°C)': 46, 'T4 (°C)': 250, 'T5 (°C)': 129, 'T6 (°C)': 6.6, 'P1 (Pa)': 3.3e6, 'P2 (Pa)': 15e6, 'm-dot (kg/s)': 4.9},\n",
    "  {'Ambient condition (°C)': -10, 'T1 (°C)': -10, 'T2 (°C)': -2, 'T3 (°C)': 50, 'T4 (°C)': 250, 'T5 (°C)': 129, 'T6 (°C)': 15.4, 'P1 (Pa)': 3.3e6, 'P2 (Pa)': 15e6, 'm-dot (kg/s)': 4.9},\n",
    "  {'Ambient condition (°C)': 0, 'T1 (°C)': 0, 'T2 (°C)': 10, 'T3 (°C)': 58, 'T4 (°C)': 250, 'T5 (°C)': 135, 'T6 (°C)': 28.8, 'P1 (Pa)': 3.9e6, 'P2 (Pa)': 16e6, 'm-dot (kg/s)': 5.2},\n",
    "  {'Ambient condition (°C)': 10, 'T1 (°C)': 10, 'T2 (°C)': 23, 'T3 (°C)': 68, 'T4 (°C)': 250, 'T5 (°C)': 143, 'T6 (°C)': 46.0, 'P1 (Pa)': 5e6, 'P2 (Pa)': 18e6, 'm-dot (kg/s)': 5.8},\n",
    "  {'Ambient condition (°C)': 20, 'T1 (°C)': 20, 'T2 (°C)': 38, 'T3 (°C)': 80, 'T4 (°C)': 250, 'T5 (°C)': 150, 'T6 (°C)': 63.9, 'P1 (Pa)': 6.2e6, 'P2 (Pa)': 20e6, 'm-dot (kg/s)': 6.4},\n",
    "  {'Ambient condition (°C)': 30, 'T1 (°C)': 30, 'T2 (°C)': 57, 'T3 (°C)': 96, 'T4 (°C)': 250, 'T5 (°C)': 160, 'T6 (°C)': 82.1, 'P1 (Pa)': 7.4e6, 'P2 (Pa)': 20.7e6, 'm-dot (kg/s)': 6.5},\n",
    "  {'Ambient condition (°C)': 40, 'T1 (°C)': 40, 'T2 (°C)': 71, 'T3 (°C)': 117, 'T4 (°C)': 250, 'T5 (°C)': 181, 'T6 (°C)': 94.6, 'P1 (Pa)': 9.2e6, 'P2 (Pa)': 19.9e6, 'm-dot (kg/s)': 5.5},\n",
    "  {'Ambient condition (°C)': 50, 'T1 (°C)': 50, 'T2 (°C)': 85, 'T3 (°C)': 145, 'T4 (°C)': 250, 'T5 (°C)': 198, 'T6 (°C)': 102.8, 'P1 (Pa)': 10e6, 'P2 (Pa)': 17.8e6, 'm-dot (kg/s)': 4}\n",
    "]\n",
    "\n",
    "operating_conditions = pd.DataFrame(table)\n",
    "\n",
    "# Apply units to the columns\n",
    "# for column in operating_conditions.columns:\n",
    "  # if column.endswith('(°C)'):\n",
    "  #   operating_conditions[column] = operating_conditions[column].apply(lambda x: ureg.Quantity(x, ureg.degC))\n",
    "  # if column.endswith('(MPa)'):\n",
    "  #   operating_conditions[column] = operating_conditions[column].apply(lambda x: ureg.Quantity(x, ureg.MPa))\n",
    "  # if column.endswith('(kg/s)'):\n",
    "  #   operating_conditions[column] = operating_conditions[column].apply(lambda x: ureg.Quantity(x, ureg.kg / ureg.s))\n",
    "\n",
    "operating_conditions"
   ]
  },
  {
   "cell_type": "markdown",
   "metadata": {},
   "source": [
    "* P2 = P3 = P4 \n",
    "* P1 = P5 = P6"
   ]
  },
  {
   "cell_type": "code",
   "execution_count": 3,
   "metadata": {},
   "outputs": [
    {
     "data": {
      "text/html": [
       "<div>\n",
       "<style scoped>\n",
       "    .dataframe tbody tr th:only-of-type {\n",
       "        vertical-align: middle;\n",
       "    }\n",
       "\n",
       "    .dataframe tbody tr th {\n",
       "        vertical-align: top;\n",
       "    }\n",
       "\n",
       "    .dataframe thead th {\n",
       "        text-align: right;\n",
       "    }\n",
       "</style>\n",
       "<table border=\"1\" class=\"dataframe\">\n",
       "  <thead>\n",
       "    <tr style=\"text-align: right;\">\n",
       "      <th></th>\n",
       "      <th>Ambient condition (°C)</th>\n",
       "      <th>T1 (°C)</th>\n",
       "      <th>T2 (°C)</th>\n",
       "      <th>T3 (°C)</th>\n",
       "      <th>T4 (°C)</th>\n",
       "      <th>T5 (°C)</th>\n",
       "      <th>T6 (°C)</th>\n",
       "      <th>P1 (Pa)</th>\n",
       "      <th>P2 (Pa)</th>\n",
       "      <th>m-dot (kg/s)</th>\n",
       "    </tr>\n",
       "  </thead>\n",
       "  <tbody>\n",
       "    <tr>\n",
       "      <th>0</th>\n",
       "      <td>20</td>\n",
       "      <td>20</td>\n",
       "      <td>27</td>\n",
       "      <td>207</td>\n",
       "      <td>250</td>\n",
       "      <td>238</td>\n",
       "      <td>73</td>\n",
       "      <td>6200000.0</td>\n",
       "      <td>11000000.0</td>\n",
       "      <td>3</td>\n",
       "    </tr>\n",
       "  </tbody>\n",
       "</table>\n",
       "</div>"
      ],
      "text/plain": [
       "   Ambient condition (°C)  T1 (°C)  T2 (°C)  T3 (°C)  T4 (°C)  T5 (°C)  \\\n",
       "0                      20       20       27      207      250      238   \n",
       "\n",
       "   T6 (°C)    P1 (Pa)     P2 (Pa)  m-dot (kg/s)  \n",
       "0       73  6200000.0  11000000.0             3  "
      ]
     },
     "execution_count": 3,
     "metadata": {},
     "output_type": "execute_result"
    }
   ],
   "source": [
    "startup_conditions = pd.DataFrame({'Ambient condition (°C)': [20], 'T1 (°C)': [20], 'T2 (°C)': [27], 'T3 (°C)': [207], 'T4 (°C)': [250], 'T5 (°C)': [238], 'T6 (°C)': [73], 'P1 (Pa)': [6.2e6], 'P2 (Pa)': [11e6], 'm-dot (kg/s)': [3]})\n",
    "\n",
    "# for column in startup_conditions.columns:\n",
    "#   if column.endswith('(°C)'):\n",
    "#     startup_conditions[column] = startup_conditions[column].apply(lambda x: ureg.Quantity(x, ureg.degC))\n",
    "#   elif column.endswith('(MPa)'):\n",
    "#     startup_conditions[column] = startup_conditions[column].apply(lambda x: ureg.Quantity(x, ureg.MPa))\n",
    "#   elif column.endswith('(kg/s)'):\n",
    "#     startup_conditions[column] = startup_conditions[column].apply(lambda x: ureg.Quantity(x, ureg.kg / ureg.s))\n",
    "\n",
    "startup_conditions"
   ]
  },
  {
   "cell_type": "code",
   "execution_count": 42,
   "metadata": {},
   "outputs": [
    {
     "data": {
      "text/html": [
       "<div>\n",
       "<style scoped>\n",
       "    .dataframe tbody tr th:only-of-type {\n",
       "        vertical-align: middle;\n",
       "    }\n",
       "\n",
       "    .dataframe tbody tr th {\n",
       "        vertical-align: top;\n",
       "    }\n",
       "\n",
       "    .dataframe thead th {\n",
       "        text-align: right;\n",
       "    }\n",
       "</style>\n",
       "<table border=\"1\" class=\"dataframe\">\n",
       "  <thead>\n",
       "    <tr style=\"text-align: right;\">\n",
       "      <th></th>\n",
       "      <th>T (°C)</th>\n",
       "      <th>delta P (Pa)</th>\n",
       "      <th>Mass flow (kg/s)</th>\n",
       "    </tr>\n",
       "  </thead>\n",
       "  <tbody>\n",
       "    <tr>\n",
       "      <th>0</th>\n",
       "      <td>150</td>\n",
       "      <td>21000000.0</td>\n",
       "      <td>0.26</td>\n",
       "    </tr>\n",
       "  </tbody>\n",
       "</table>\n",
       "</div>"
      ],
      "text/plain": [
       "   T (°C)  delta P (Pa)  Mass flow (kg/s)\n",
       "0     150    21000000.0              0.26"
      ]
     },
     "execution_count": 42,
     "metadata": {},
     "output_type": "execute_result"
    }
   ],
   "source": [
    "data = {'T (°C)': [150],\n",
    "    'delta P (Pa)': [2.1e7],\n",
    "    'Mass flow (kg/s)': [0.26]}\n",
    "\n",
    "bearing_requirements = pd.DataFrame(data)\n",
    "\n",
    "# Apply units to the columns\n",
    "# for column in bearing_requirements.columns:\n",
    "#   if column.endswith('(°C)'):\n",
    "#     bearing_requirements[column] = bearing_requirements[column].apply(lambda x: ureg.Quantity(x, ureg.degC))\n",
    "#   elif column.endswith('(MPa)'):\n",
    "#     bearing_requirements[column] = bearing_requirements[column].apply(lambda x: ureg.Quantity(x, ureg.MPa))\n",
    "#   elif column.endswith('(kg/s)'):\n",
    "#     bearing_requirements[column] = bearing_requirements[column].apply(lambda x: ureg.Quantity(x, ureg.kg / ureg.s))\n",
    "\n",
    "bearing_requirements\n"
   ]
  },
  {
   "cell_type": "markdown",
   "metadata": {},
   "source": [
    "## Modeling"
   ]
  },
  {
   "cell_type": "markdown",
   "metadata": {},
   "source": [
    "### CO_2 as a working fluid"
   ]
  },
  {
   "cell_type": "code",
   "execution_count": 5,
   "metadata": {},
   "outputs": [
    {
     "name": "stdout",
     "output_type": "stream",
     "text": [
      "468540.59103611164 2603.75424704758 2.108951810313363\n"
     ]
    }
   ],
   "source": [
    "from pyfluids import Fluid, FluidsList, Input\n",
    "\n",
    "c_ohh_two = Fluid(FluidsList.CarbonDioxide)\n",
    "\n",
    "\n",
    "cold_two = c_ohh_two.with_state(\n",
    "    Input.pressure(100e3), Input.temperature(-20)\n",
    ")\n",
    "print(cold_two.enthalpy, cold_two.entropy, cold_two.density)"
   ]
  },
  {
   "cell_type": "markdown",
   "metadata": {},
   "source": [
    "### Valve Model from First Principles"
   ]
  },
  {
   "cell_type": "code",
   "execution_count": 107,
   "metadata": {},
   "outputs": [
    {
     "name": "stderr",
     "output_type": "stream",
     "text": [
      "Executing <Handle BaseAsyncIOLoop._handle_events(40, 1) created at /Library/Frameworks/Python.framework/Versions/3.12/lib/python3.12/asyncio/selector_events.py:276> took 0.163 seconds\n",
      "Executing <Handle IOLoop._run_callback(functools.par... 0x11dfae980>)) created at /Users/wmac/Library/Python/3.12/lib/python/site-packages/tornado/platform/asyncio.py:225> took 0.139 seconds\n"
     ]
    },
    {
     "name": "stdout",
     "output_type": "stream",
     "text": [
      "C_V: 0.061136, P_2: 1.07e+07, t_3: 137.61, rho_3: 28.027\n"
     ]
    },
    {
     "name": "stderr",
     "output_type": "stream",
     "text": [
      "Executing <Task pending name='Task-4' coro=<Kernel.dispatch_queue() running at /Users/wmac/Library/Python/3.12/lib/python/site-packages/ipykernel/kernelbase.py:524> wait_for=<Future pending cb=[Task.task_wakeup()] created at /Users/wmac/Library/Python/3.12/lib/python/site-packages/tornado/queues.py:248> cb=[IOLoop.add_future.<locals>.<lambda>() at /Users/wmac/Library/Python/3.12/lib/python/site-packages/tornado/ioloop.py:685] created at /Library/Frameworks/Python.framework/Versions/3.12/lib/python3.12/asyncio/tasks.py:685> took 5.815 seconds\n"
     ]
    }
   ],
   "source": [
    "def valve_calc(t_one, P_one, m_dot, P_three, increment = 0.1e6):\n",
    "  # compute input enthalpy, entropy, & density with fluids\n",
    "  state_one = c_ohh_two.with_state(\n",
    "    Input.pressure(P_one), Input.temperature(t_one)\n",
    "  )\n",
    "  h_one = state_one.enthalpy\n",
    "  s_one = state_one.entropy\n",
    "  rho_one = state_one.density\n",
    "\n",
    "  # Assume the velocity is zero at the inlet\n",
    "  V_one = 0\n",
    "  \n",
    "  # Isentropic expansion to the throttle point\n",
    "  s_two = s_one\n",
    "\n",
    "  # Init our outputs before we loop (these values do not matter)\n",
    "  V_two = 1\n",
    "  c_two = 100.0\n",
    "\n",
    "  P_two = 40e7;\n",
    "\n",
    "  # Guess a pressure for the choke and iterate until the velocity is mach one or we drop below the pressure floor\n",
    "  \n",
    "  # print(\"V_two {}, c_two {}, P_two {} P_three {}\".format(V_two, c_two, P_two, P_three))\n",
    "  while V_two < c_two and P_two > P_three:\n",
    "    # h_two, rho_two, c_two = lookup(s_two, P_two)\n",
    "    state_two = c_ohh_two.with_state(\n",
    "      Input.pressure(P_two), Input.entropy(s_two)\n",
    "    )\n",
    "    h_two = state_two.enthalpy\n",
    "    rho_two = state_two.density\n",
    "    c_two = state_two.sound_speed\n",
    "\n",
    "    discriminant = 2 * (h_one - h_two) + V_one**2\n",
    "    if (discriminant > 0):\n",
    "      V_two = discriminant ** 0.5\n",
    "\n",
    "    P_two -= increment\n",
    "  \n",
    "  A_two = m_dot / (V_two * rho_two)\n",
    "\n",
    "  C_d = P_three / P_two\n",
    "\n",
    "  C_V = 58888.5 * C_d * A_two\n",
    "\n",
    "  h_three = h_one\n",
    "\n",
    "  state_three = c_ohh_two.with_state(\n",
    "    Input.pressure(P_three), Input.enthalpy(h_three)\n",
    "  )\n",
    "\n",
    "  t_three = state_three.temperature\n",
    "  rho_three = state_three.density\n",
    "\n",
    "  return C_V, P_two, t_three, rho_three\n",
    "\n",
    "C_V, P_two, t_three, rho_three = valve_calc(t_one=200, P_one=20e6, m_dot=0.26, P_three=2.1e6)\n",
    "\n",
    "print(\"C_V: {:.5}, P_2: {:.5}, t_3: {:.5}, rho_3: {:.5}\".format(C_V, P_two, t_three, rho_three))\n"
   ]
  },
  {
   "cell_type": "markdown",
   "metadata": {},
   "source": [
    "## Checking that there is enough enthalpy in any of the states"
   ]
  },
  {
   "cell_type": "code",
   "execution_count": 72,
   "metadata": {},
   "outputs": [
    {
     "data": {
      "text/plain": [
       "{1: {'T': -20.0, 'P': 3300000.0, 'h': 154222.49118210844},\n",
       " 2: {'T': -14.0, 'P': 15000000.0, 'h': 165984.35973240435},\n",
       " 3: {'T': 46.0, 'P': 15000000.0, 'h': 302136.43254427105},\n",
       " 4: {'T': 250.0, 'P': 15000000.0, 'h': 676994.3393994287},\n",
       " 5: {'T': 129.0, 'P': 3300000.0, 'h': 582901.7671793875},\n",
       " 6: {'T': 6.6, 'P': 3300000.0, 'h': 445899.9026213229}}"
      ]
     },
     "execution_count": 72,
     "metadata": {},
     "output_type": "execute_result"
    }
   ],
   "source": [
    "# Check the enthalpy of each of the operating conditions\n",
    "cond_values = {}\n",
    "\n",
    "stations = range(1, 7)\n",
    "\n",
    "for s in stations:\n",
    "  if s in (2, 3, 4):\n",
    "    cond_values[s] = {\n",
    "      'T': cond_row['T{} (°C)'.format(s)],\n",
    "      'P': cond_row['P2 (Pa)']\n",
    "    }\n",
    "  else:\n",
    "    cond_values[s] = {\n",
    "      'T': cond_row['T{} (°C)'.format(s)],\n",
    "      'P': cond_row['P1 (Pa)']\n",
    "    }\n",
    "\n",
    "for s in stations:\n",
    "  cond_values[s]['h'] = c_ohh_two.with_state(\n",
    "    Input.pressure(cond_values[s]['P']), Input.temperature(cond_values[s]['T'])\n",
    "  ).enthalpy\n",
    "\n",
    "cond_values"
   ]
  },
  {
   "cell_type": "markdown",
   "metadata": {},
   "source": [
    "### Find the lower Pressure state"
   ]
  },
  {
   "cell_type": "code",
   "execution_count": 51,
   "metadata": {},
   "outputs": [
    {
     "name": "stdout",
     "output_type": "stream",
     "text": [
      "P_one 3300000.0\n"
     ]
    }
   ],
   "source": [
    "P_one = cond_row['P1 (Pa)']\n",
    "P_two = cond_row['P2 (Pa)']\n",
    "\n",
    "if P_one > P_two:\n",
    "  P_exit = P_two\n",
    "  print(\"P_two\", P_two)\n",
    "else:\n",
    "  P_exit = P_one\n",
    "  print(\"P_one\", P_one)"
   ]
  },
  {
   "cell_type": "markdown",
   "metadata": {},
   "source": [
    "### Target Enthalpy"
   ]
  },
  {
   "cell_type": "code",
   "execution_count": 63,
   "metadata": {},
   "outputs": [
    {
     "data": {
      "text/plain": [
       "505840.554754756"
      ]
     },
     "execution_count": 63,
     "metadata": {},
     "output_type": "execute_result"
    }
   ],
   "source": [
    "h_bearing = c_ohh_two.with_state(\n",
    "    Input.pressure(bearing_requirements['delta P (Pa)'][0] + P_exit),\n",
    "    Input.temperature(bearing_requirements['T (°C)'])\n",
    "  ).enthalpy\n",
    "\n",
    "h_bearing"
   ]
  },
  {
   "cell_type": "markdown",
   "metadata": {},
   "source": [
    "### Rank the Enthapies in order"
   ]
  },
  {
   "cell_type": "code",
   "execution_count": 64,
   "metadata": {},
   "outputs": [
    {
     "data": {
      "text/plain": [
       "{1: 154222.49118210844,\n",
       " 2: 165984.35973240435,\n",
       " 3: 302136.43254427105,\n",
       " 6: 445899.9026213229,\n",
       " 'bearing': 505840.554754756,\n",
       " 5: 582901.7671793875,\n",
       " 4: 676994.3393994287}"
      ]
     },
     "execution_count": 64,
     "metadata": {},
     "output_type": "execute_result"
    }
   ],
   "source": [
    "# place all the enthalpies in a dictionary\n",
    "h_list = {s: cond_values[s]['h'] for s in stations}\n",
    "\n",
    "# add the bearing enthalpy to the list\n",
    "h_list['bearing'] = h_bearing\n",
    "\n",
    "# Sort the list by enthalpy\n",
    "h_list = dict(sorted(h_list.items(), key=lambda item: item[1]))\n",
    "h_list"
   ]
  },
  {
   "cell_type": "markdown",
   "metadata": {},
   "source": [
    "# Solve the Bearing Supply problem given sources and sink"
   ]
  },
  {
   "cell_type": "code",
   "execution_count": 108,
   "metadata": {},
   "outputs": [
    {
     "name": "stderr",
     "output_type": "stream",
     "text": [
      "Executing <Handle BaseAsyncIOLoop._handle_events(40, 1) created at /Library/Frameworks/Python.framework/Versions/3.12/lib/python3.12/asyncio/selector_events.py:276> took 0.121 seconds\n",
      "Executing <Handle IOLoop._run_callback(functools.par... 0x11e5fdee0>)) created at /Users/wmac/Library/Python/3.12/lib/python/site-packages/tornado/platform/asyncio.py:225> took 0.166 seconds\n"
     ]
    },
    {
     "name": "stdout",
     "output_type": "stream",
     "text": [
      "m_dot_left: 0.10367, m_dot_right: 0.15633, m_dot_ent: 0.26\n",
      "T_left: -20.0, P_left: 3300000.0, P_ent: 24300000.0\n"
     ]
    },
    {
     "name": "stdout",
     "output_type": "stream",
     "text": [
      "C_V: 5.691969860941119, t_3: 24300000.0, rho_3: -20.827165369151658\n",
      "C_V: 39.83405443588193, t_3: 24300000.0, rho_3: 267.14049874979594\n",
      "left: 1, right: 4, sink: 1 is valid\n",
      "C_V: 5.608635019161971, t_3: 36000000.0, rho_3: -22.51261464504759\n",
      "C_V: 30.677702150625855, t_3: 36000000.0, rho_3: 281.77153340081975\n",
      "left: 1, right: 4, sink: 2 is valid\n",
      "C_V: 3.808125038897552, t_3: 24300000.0, rho_3: -20.827165369151658\n"
     ]
    }
   ],
   "source": [
    "sources = [1, 2]\n",
    "sink = 3\n",
    "\n",
    "cond_row = operating_conditions.iloc[0]\n",
    "cond_row\n",
    "\n",
    "# Required mass flow rate\n",
    "m_dot_ent = bearing_requirements['Mass flow (kg/s)'][0]\n",
    "\n",
    "TOLERANCE = 1e-5\n",
    "\n",
    "def test_setup(sources, sink, cond_row):\n",
    "  cond_values = {}\n",
    "\n",
    "  for s in sources + [sink]:\n",
    "    if s in (2, 3, 4):\n",
    "      cond_values[s] = {\n",
    "        'T': cond_row['T{} (°C)'.format(s)],\n",
    "        'P': cond_row['P2 (Pa)']\n",
    "      }\n",
    "    else:\n",
    "      cond_values[s] = {\n",
    "        'T': cond_row['T{} (°C)'.format(s)],\n",
    "        'P': cond_row['P1 (Pa)']\n",
    "      }\n",
    "\n",
    "  # Bearing entrance pressure is P_sink + delta_P (+ filter pressure drop)\n",
    "  P_ent = cond_values[sink]['P'] + bearing_requirements['delta P (Pa)'][0]\n",
    "  # P_ent += filter_pressure_drop\n",
    "\n",
    "  # Entrance enthalpy can be computed with coolprop\n",
    "  entrance = c_ohh_two.with_state(\n",
    "      Input.pressure(P_ent), Input.temperature(bearing_requirements['T (°C)'][0])\n",
    "  )\n",
    "  h_ent = cold_two.enthalpy\n",
    "\n",
    "  # Determine the source, post-valve enthalpies with coolprop. Assuming adiabatic conditions in valve\n",
    "  for s in sources:\n",
    "    source_state = c_ohh_two.with_state(\n",
    "      Input.pressure(cond_values[s]['P']), Input.temperature(cond_values[s]['T'])\n",
    "    )\n",
    "    h_post = source_state.enthalpy\n",
    "\n",
    "    cond_values[s]['h_post'] = h_post\n",
    "\n",
    "  # Determine the required mass flow rate mixture given the enthalpies\n",
    "  # m_dot_ent = m_dot_left + m_dot_right\n",
    "  # m_dot_ent * h_ent = m_dot_left * h_left + m_dot_right * h_right\n",
    "\n",
    "  left = sources[0]\n",
    "  right = sources[1]\n",
    "\n",
    "  h_left = cond_values[left]['h_post']\n",
    "  h_right = cond_values[right]['h_post']\n",
    "\n",
    "  m_dot_left = m_dot_ent * (h_ent - h_right) / (h_left - h_right)\n",
    "  m_dot_right = m_dot_ent - m_dot_left\n",
    "\n",
    "  assert abs(m_dot_ent - (m_dot_left + m_dot_right)) < TOLERANCE, \"Mass flow rates do not sum to the required value {} != {}\".format(m_dot_ent, m_dot_left + m_dot_right)\n",
    "  assert abs(m_dot_ent * h_ent - (m_dot_left * h_left + m_dot_right * h_right)) < TOLERANCE, \"Enthalpies do not sum to the required value {} != {}\".format(m_dot_ent * h_ent, m_dot_left * h_left + m_dot_right * h_right)\n",
    "\n",
    "  cond_values[left]['m_dot'] = m_dot_left\n",
    "  cond_values[right]['m_dot'] = m_dot_right\n",
    "\n",
    "  # Check that the mass flow rates are positive\n",
    "  if m_dot_left < 0 or m_dot_right < 0:\n",
    "    pass\n",
    "    # print(\"Mass flow rates are negative. Check your inputs.\")\n",
    "    # print(\"h_left: {:.5}, h_right: {:.5}, h_ent: {:.5}\".format(h_left, h_right, h_ent))\n",
    "    # print(\"m_dot_left: {:.5}, m_dot_right: {:.5}, m_dot_ent: {:.5}\".format(m_dot_left, m_dot_right, m_dot_ent))\n",
    "  else:\n",
    "    # if sources[0] == 1 and sources[1] == 4 and sink == 1:\n",
    "    #   print(\"m_dot_left: {:.5}, m_dot_right: {:.5}, m_dot_ent: {:.5}\".format(m_dot_left, m_dot_right, m_dot_ent))\n",
    "    #   print(\"T_left: {}, P_left: {}, P_ent: {}\".format(cond_values[left]['T'], cond_values[left]['P'], P_ent))\n",
    "      \n",
    "\n",
    "    # Check the valve for choking or pressure floor\n",
    "    print(\"C_V: {0[0]}, t_3: {0[1]}, rho_3: {0[2]}\".format(valve_calc(cond_values[left]['T'], cond_values[left]['P'], m_dot_left, P_ent)))\n",
    "    print(\"C_V: {0[0]}, t_3: {0[1]}, rho_3: {0[2]}\".format(valve_calc(cond_values[right]['T'], cond_values[right]['P'], m_dot_right, P_ent)))\n",
    "    \n",
    "    return True\n",
    "\n",
    "hits = 0\n",
    "tries = 0\n",
    "for left in range(1, 4):\n",
    "  for right in range(1, 7):\n",
    "    if left != right:\n",
    "      for sink in range(1, 3):\n",
    "        tries += 1\n",
    "        if test_setup([left, right], sink, cond_row):\n",
    "          hits += 1\n",
    "          print(\"left: {}, right: {}, sink: {} is valid\".format(left, right, sink))\n",
    "\n",
    "print(\"hits: {}, tries: {}\".format(hits, tries))\n"
   ]
  },
  {
   "cell_type": "code",
   "execution_count": null,
   "metadata": {},
   "outputs": [],
   "source": [
    "m_dot_left = 0.10367\n",
    "m_dot_right = 0.15633\n",
    "m_dot_ent = 0.26\n",
    "T_left = -20.0\n",
    "P_left = 3300000.0\n",
    "P_ent = 24300000.0\n"
   ]
  }
 ],
 "metadata": {
  "language_info": {
   "name": "python"
  }
 },
 "nbformat": 4,
 "nbformat_minor": 2
}
