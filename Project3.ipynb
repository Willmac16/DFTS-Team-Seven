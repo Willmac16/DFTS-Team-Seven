{
 "cells": [
  {
   "cell_type": "code",
   "execution_count": 1,
   "metadata": {},
   "outputs": [],
   "source": [
    "%%capture\n",
    "%pip install numpy pyfluids scipy\n",
    "\n",
    "import numpy as np\n",
    "from pyfluids import Fluid, FluidsList, Input\n",
    "from scipy.optimize import minimize_scalar"
   ]
  },
  {
   "cell_type": "code",
   "execution_count": 2,
   "metadata": {},
   "outputs": [],
   "source": [
    "GRAVITY = 9.81"
   ]
  },
  {
   "cell_type": "code",
   "execution_count": 3,
   "metadata": {},
   "outputs": [],
   "source": [
    "c_ohh_two = Fluid(FluidsList.CarbonDioxide)"
   ]
  },
  {
   "cell_type": "markdown",
   "metadata": {},
   "source": [
    "## Constants"
   ]
  },
  {
   "cell_type": "code",
   "execution_count": 4,
   "metadata": {},
   "outputs": [
    {
     "data": {
      "text/plain": [
       "array([10, 20])"
      ]
     },
     "execution_count": 4,
     "metadata": {},
     "output_type": "execute_result"
    }
   ],
   "source": [
    "dioxide_temps = np.array([10, 20])\n",
    "dioxide_temps"
   ]
  },
  {
   "cell_type": "code",
   "execution_count": 5,
   "metadata": {},
   "outputs": [
    {
     "data": {
      "text/plain": [
       "6000000.0"
      ]
     },
     "execution_count": 5,
     "metadata": {},
     "output_type": "execute_result"
    }
   ],
   "source": [
    "dioxide_pressure = 6e6\n",
    "dioxide_pressure"
   ]
  },
  {
   "cell_type": "code",
   "execution_count": 6,
   "metadata": {},
   "outputs": [
    {
     "data": {
      "text/plain": [
       "array([ 70, 112])"
      ]
     },
     "execution_count": 6,
     "metadata": {},
     "output_type": "execute_result"
    }
   ],
   "source": [
    "well_dists = np.array([70, 112])\n",
    "well_dists"
   ]
  },
  {
   "cell_type": "code",
   "execution_count": 7,
   "metadata": {},
   "outputs": [
    {
     "data": {
      "text/plain": [
       "3.24"
      ]
     },
     "execution_count": 7,
     "metadata": {},
     "output_type": "execute_result"
    }
   ],
   "source": [
    "sequestration_rate = 3.24 # kg / s\n",
    "sequestration_rate"
   ]
  },
  {
   "cell_type": "code",
   "execution_count": 8,
   "metadata": {},
   "outputs": [],
   "source": [
    "well_depth = 3.2e3 # m"
   ]
  },
  {
   "cell_type": "code",
   "execution_count": 9,
   "metadata": {},
   "outputs": [],
   "source": [
    "cold_well_temp = 2 # C"
   ]
  },
  {
   "cell_type": "code",
   "execution_count": 10,
   "metadata": {},
   "outputs": [],
   "source": [
    "tube_diam = 2.375 * 0.0254\n",
    "tube_thickness = 0.154 * 0.0254\n",
    "\n",
    "casing_diam = 5.563 * 0.0254\n",
    "casing_thickness = 0.258 * 0.0254\n",
    "\n",
    "soil_effective_thickness = 2\n",
    "\n",
    "tube_radii = [tube_diam / 2 - tube_thickness, tube_diam / 2, casing_diam / 2 - casing_thickness, casing_diam / 2, casing_diam / 2 + soil_effective_thickness]\n",
    "\n",
    "carbon_steel_conductivity = 45 # W/mK\n",
    "concrete_conductivity = 2.25 # W/mK\n",
    "soil_conductivity = 1 # W/mK\n",
    "\n",
    "tube_conductivities = [carbon_steel_conductivity, concrete_conductivity, carbon_steel_conductivity, soil_conductivity]"
   ]
  },
  {
   "cell_type": "markdown",
   "metadata": {},
   "source": [
    "# Stuff To Check\n",
    "* Make condenser outlet match the CO_2 Supply"
   ]
  },
  {
   "cell_type": "markdown",
   "metadata": {},
   "source": [
    "## Vertical Pipe Slices"
   ]
  },
  {
   "cell_type": "code",
   "execution_count": 11,
   "metadata": {},
   "outputs": [
    {
     "data": {
      "text/plain": [
       "1.103178000763258"
      ]
     },
     "execution_count": 11,
     "metadata": {},
     "output_type": "execute_result"
    }
   ],
   "source": [
    "def radial_thermal_conduction(inner_radius, outer_radius, length, conductivity):\n",
    "    return np.log(outer_radius / inner_radius) / (2 * np.pi * conductivity * length)\n",
    "\n",
    "radial_thermal_conduction(0.1, 0.2, 1, 0.1)"
   ]
  },
  {
   "cell_type": "code",
   "execution_count": 12,
   "metadata": {},
   "outputs": [
    {
     "data": {
      "text/plain": [
       "0.031054906032933167"
      ]
     },
     "execution_count": 12,
     "metadata": {},
     "output_type": "execute_result"
    }
   ],
   "source": [
    "def thermal_convection(mass_flow, fluid: Fluid, radius, length):\n",
    "    volumetric_flow = mass_flow / fluid.density\n",
    "    velocity = volumetric_flow / (np.pi * radius ** 2)\n",
    "    \n",
    "    reynolds = 2 * radius * velocity / fluid.kinematic_viscosity\n",
    "\n",
    "    if reynolds < 2300:\n",
    "        nusselt = 3.66\n",
    "    else:\n",
    "        nusselt = 0.023 * reynolds ** 0.8 * fluid.prandtl ** 0.3\n",
    "    \n",
    "    h = nusselt * fluid.conductivity / (2 * radius)\n",
    "\n",
    "    return 1 / (2 * np.pi * radius * length * h)\n",
    "\n",
    "\n",
    "\n",
    "thermal_convection(1, c_ohh_two.with_state(\n",
    "    Input.pressure(100e3), Input.temperature(-20)\n",
    "), 0.1, 1)"
   ]
  },
  {
   "cell_type": "code",
   "execution_count": 13,
   "metadata": {},
   "outputs": [
    {
     "data": {
      "text/plain": [
       "1.174182632286475"
      ]
     },
     "execution_count": 13,
     "metadata": {},
     "output_type": "execute_result"
    }
   ],
   "source": [
    "def friction_head_loss(mass_flow, fluid: Fluid, radius, length, relative_roughness=0.001):\n",
    "    volumetric_flow = mass_flow / fluid.density\n",
    "    velocity = volumetric_flow / (np.pi * radius ** 2)\n",
    "    \n",
    "    reynolds = 2 * radius * velocity / fluid.kinematic_viscosity\n",
    "\n",
    "    if reynolds < 2300:\n",
    "        friction_factor = 64 / reynolds\n",
    "    else:\n",
    "        # From https://github.com/MarkusPic/moody_chart/blob/master/moody_chart/moody_chart.py\n",
    "        def _func(lambda_):\n",
    "            return abs(1 / np.sqrt(lambda_) + 2 * np.log10(2.51 / (reynolds * np.sqrt(lambda_)) + 1 / 3.71 * relative_roughness))\n",
    "\n",
    "        lambda_bounds = (0.01, 0.1)\n",
    "        friction_factor = minimize_scalar(_func, method='bounded', bounds=lambda_bounds).x\n",
    "\n",
    "    \n",
    "\n",
    "    return friction_factor * length / (radius * 2) * velocity ** 2 / 2 / GRAVITY\n",
    "\n",
    "friction_head_loss(1, c_ohh_two.with_state(\n",
    "    Input.pressure(100e3), Input.temperature(-20)\n",
    "), 0.1, 1)"
   ]
  },
  {
   "cell_type": "code",
   "execution_count": 14,
   "metadata": {},
   "outputs": [
    {
     "data": {
      "text/plain": [
       "210.0"
      ]
     },
     "execution_count": 14,
     "metadata": {},
     "output_type": "execute_result"
    }
   ],
   "source": [
    "def soil_temp(depth):\n",
    "    return 10 + 62.5 / 1e3 * depth\n",
    "\n",
    "soil_temp(3.2e3)"
   ]
  },
  {
   "cell_type": "markdown",
   "metadata": {},
   "source": [
    "## Flow Through Formation"
   ]
  },
  {
   "cell_type": "markdown",
   "metadata": {},
   "source": [
    "### Heat Transfer"
   ]
  },
  {
   "cell_type": "code",
   "execution_count": 15,
   "metadata": {},
   "outputs": [
    {
     "data": {
      "text/plain": [
       "220.0"
      ]
     },
     "execution_count": 15,
     "metadata": {},
     "output_type": "execute_result"
    }
   ],
   "source": [
    "A = 2\n",
    "r = A ** 0.5 / np.pi\n",
    "P = r * 2 * np.pi\n",
    "\n",
    "def in_formation_heat_transfer(mass_flow, fluid: Fluid, well_to_well):\n",
    "    well_temp = 220\n",
    "\n",
    "    nusselt = 450\n",
    "\n",
    "    h = nusselt * soil_conductivity / (2 * r)\n",
    "\n",
    "    outlet_to_inlet_ratio = np.exp(-P * well_to_well * h / (mass_flow * fluid.specific_heat))\n",
    "\n",
    "    return well_temp - (well_temp - fluid.temperature) * outlet_to_inlet_ratio\n",
    "\n",
    "in_formation_heat_transfer(1, c_ohh_two.with_state(\n",
    "    Input.pressure(100e3), Input.temperature(100)\n",
    "), 140)"
   ]
  },
  {
   "cell_type": "markdown",
   "metadata": {},
   "source": [
    "### Pressure Drop"
   ]
  },
  {
   "cell_type": "code",
   "execution_count": 16,
   "metadata": {},
   "outputs": [
    {
     "data": {
      "text/plain": [
       "1425710213.3965037"
      ]
     },
     "execution_count": 16,
     "metadata": {},
     "output_type": "execute_result"
    }
   ],
   "source": [
    "def in_formation_pressure_drop(mass_flow, fluid: Fluid, well_to_well):\n",
    "    volumetric_flow = mass_flow / fluid.density\n",
    "\n",
    "    perm = 1e-12\n",
    "    \n",
    "    return volumetric_flow * fluid.dynamic_viscosity * well_to_well / A / perm\n",
    "\n",
    "in_formation_pressure_drop(1, c_ohh_two.with_state(\n",
    "    Input.pressure(100e3), Input.temperature(200)\n",
    "), 140)"
   ]
  },
  {
   "cell_type": "markdown",
   "metadata": {},
   "source": [
    "## Condensor"
   ]
  },
  {
   "cell_type": "code",
   "execution_count": 17,
   "metadata": {},
   "outputs": [
    {
     "data": {
      "text/plain": [
       "2219.6061458550016"
      ]
     },
     "execution_count": 17,
     "metadata": {},
     "output_type": "execute_result"
    }
   ],
   "source": [
    "def UA_from_cond_ops(inlet_fluid: Fluid, outlet_fluid: Fluid, cold_well_temp, mass_flow_rate):\n",
    "    heat_transfer = mass_flow_rate * (inlet_fluid.enthalpy - outlet_fluid.enthalpy)\n",
    "\n",
    "    log_mean_temp = inlet_fluid.temperature  - outlet_fluid.temperature\n",
    "    log_mean_temp /= np.log((inlet_fluid.temperature - cold_well_temp) / (outlet_fluid.temperature - cold_well_temp))\n",
    "\n",
    "    return heat_transfer / log_mean_temp\n",
    "\n",
    "UA_from_cond_ops(c_ohh_two.with_state(\n",
    "    Input.pressure(100e3), Input.temperature(200)\n",
    "), c_ohh_two.with_state(\n",
    "    Input.pressure(100e3), Input.temperature(20)\n",
    "), 2, 1)"
   ]
  },
  {
   "cell_type": "markdown",
   "metadata": {},
   "source": [
    "## System Solving"
   ]
  },
  {
   "cell_type": "markdown",
   "metadata": {},
   "source": [
    "## Overall State Variables when Optimizing\n",
    "\n",
    "* Mass flow rate (possible two up values)\n",
    "* Turbine Outlet Pressure\n",
    "* Compressor Outlet Pressure\n",
    "* Turbine & Compressor Efficiency"
   ]
  },
  {
   "cell_type": "markdown",
   "metadata": {},
   "source": [
    "Fluid State Vector into each slice\n",
    "\n",
    "constant mass flow rate down\n",
    "\n",
    "* Enthalpy\n",
    "  + Changes by Heat Transfer\n",
    "    - Constant Soil Temp given the linear\n",
    "    - slice of 2m of soil\n",
    "    - cond through 3 pipe layer stackup\n",
    "    - convective analysis with const Ts\n",
    "  + Increases by frictional losses\n",
    "  \n",
    "\n",
    "* Pressure\n",
    "  + Increase by rho g delta Z\n",
    "  + Decrease by frictional losses"
   ]
  },
  {
   "cell_type": "code",
   "execution_count": 18,
   "metadata": {},
   "outputs": [],
   "source": [
    "def SolveSlice(mass_flow, start_depth, end_depth, inlet_fluid: Fluid):\n",
    "    thermal_network = []\n",
    "\n",
    "    length = end_depth - start_depth\n",
    "\n",
    "    avg_depth = (start_depth + end_depth) / 2\n",
    "\n",
    "    thermal_network.append(\n",
    "      thermal_convection(mass_flow, inlet_fluid, tube_radii[0], length)\n",
    "    )\n",
    "\n",
    "    for ind, cond in enumerate(tube_conductivities):\n",
    "      inner = tube_radii[ind]\n",
    "      outer = tube_radii[ind + 1]\n",
    "\n",
    "      thermal_network.append(\n",
    "        radial_thermal_conduction(inner, outer, length, cond)\n",
    "      )\n",
    "\n",
    "    inside_BC = inlet_fluid.temperature\n",
    "    outside_BC = soil_temp(avg_depth)\n",
    "\n",
    "    overall_resistance = sum(thermal_network)\n",
    "\n",
    "    heat_transfer_in = (outside_BC - inside_BC) / overall_resistance\n",
    "\n",
    "    frictional_head_loss = friction_head_loss(mass_flow, inlet_fluid, tube_radii[0], length)\n",
    "\n",
    "    outlet_fluid = inlet_fluid.with_state(\n",
    "      Input.enthalpy(inlet_fluid.enthalpy + heat_transfer_in / mass_flow + frictional_head_loss * GRAVITY),\n",
    "      Input.pressure(inlet_fluid.pressure - frictional_head_loss * inlet_fluid.density * GRAVITY + inlet_fluid.density * GRAVITY * length)\n",
    "    )\n",
    "\n",
    "    return outlet_fluid\n",
    "    \n"
   ]
  },
  {
   "cell_type": "code",
   "execution_count": 19,
   "metadata": {},
   "outputs": [
    {
     "data": {
      "text/plain": [
       "Condensor UA:           15190 W/K\n",
       "Turbine Production:     2.0962e+06 W\n",
       "Compressor Consumption: 2.4459e+05 W"
      ]
     },
     "execution_count": 19,
     "metadata": {},
     "output_type": "execute_result"
    }
   ],
   "source": [
    "class SystemSolution:\n",
    "  def __init__(self, flow_rates, turbine_outlet_pressure, compressor_outlet_pressure, turbine_efficiency, compressor_efficiency, supply_fluid: Fluid, VERTICAL_SLICES = 100):\n",
    "\n",
    "    downward_flow_rate = sum(flow_rates) + sequestration_rate\n",
    "\n",
    "    post_comp_isen = supply_fluid.with_state(Input.pressure(compressor_outlet_pressure),\n",
    "                                              Input.entropy(supply_fluid.entropy))\n",
    "\n",
    "    post_compressor = supply_fluid.with_state(Input.pressure(compressor_outlet_pressure),\n",
    "                                              Input.enthalpy(supply_fluid.enthalpy + compressor_efficiency * (post_comp_isen.enthalpy - supply_fluid.enthalpy)))\n",
    "    \n",
    "    output = post_compressor\n",
    "    slice_log = []\n",
    "\n",
    "    for slice in range(VERTICAL_SLICES):\n",
    "      output = SolveSlice(downward_flow_rate,\n",
    "                          slice / VERTICAL_SLICES * well_depth,\n",
    "                          (slice + 1) / VERTICAL_SLICES * well_depth,\n",
    "                          output)\n",
    "      slice_log.append(output)\n",
    "    \n",
    "    pre_formation = output\n",
    "\n",
    "    up_states = [pre_formation.with_state(Input.pressure(pre_formation.pressure - in_formation_pressure_drop(flow_rate, pre_formation, well_dist)),\n",
    "                                          Input.temperature(in_formation_heat_transfer(flow_rate, pre_formation, well_dist))) for flow_rate, well_dist in zip(flow_rates, well_dists)]\n",
    "\n",
    "    upward_logs = [[], []]\n",
    "\n",
    "    pre_turbines = []\n",
    "\n",
    "    for usi, up_state in enumerate(up_states):\n",
    "      output = up_state\n",
    "      for slice in range(VERTICAL_SLICES):\n",
    "        output = SolveSlice(flow_rates[usi],\n",
    "                              well_depth - slice / VERTICAL_SLICES * well_depth,\n",
    "                              well_depth - (slice + 1) / VERTICAL_SLICES * well_depth,\n",
    "                              output)\n",
    "        upward_logs[usi].append(output)\n",
    "\n",
    "      pre_turbines.append(output)\n",
    "\n",
    "    post_turb_isens = [pre_turbine.with_state(Input.pressure(turbine_outlet_pressure),\n",
    "                                              Input.entropy(pre_turbine.entropy)) for pre_turbine in pre_turbines]\n",
    "\n",
    "    post_turbines = [pre_turbine.with_state(Input.pressure(turbine_outlet_pressure),\n",
    "                                            Input.enthalpy(pre_turbine.enthalpy - turbine_efficiency * (pre_turbine.enthalpy - post_turb_isen.enthalpy))) for pre_turbine, post_turb_isen in zip(pre_turbines, post_turb_isens)]\n",
    "    \n",
    "    post_tee = supply_fluid.with_state(Input.pressure(turbine_outlet_pressure), Input.enthalpy(sum([post_turbine.enthalpy * flow_rate for post_turbine, flow_rate in zip(post_turbines, flow_rates)]) / sum(flow_rates)))\n",
    "\n",
    "    self.condensorUA = UA_from_cond_ops(post_tee, supply_fluid, cold_well_temp, sum(flow_rates))\n",
    "\n",
    "    self.turbine_production = sum([(pre_turbine.enthalpy - post_turbine.enthalpy) * flow_rate for pre_turbine, post_turbine, flow_rate in zip(pre_turbines, post_turbines, flow_rates)])\n",
    "    self.compressor_consumption = (post_comp_isen.enthalpy - supply_fluid.enthalpy) * downward_flow_rate\n",
    "\n",
    "  def __repr__(self):\n",
    "    return f\"Condensor UA:           {self.condensorUA:.5g} W/K\\nTurbine Production:     {self.turbine_production:.5g} W\\nCompressor Consumption: {self.compressor_consumption:.5g} W\"\n",
    "\n",
    "sol = SystemSolution([1, 1], dioxide_pressure, 50e6, 0.9, 0.9,\n",
    "                      c_ohh_two.with_state(Input.pressure(dioxide_pressure),\n",
    "                                          Input.temperature(dioxide_temps[0])))\n",
    "sol"
   ]
  },
  {
   "cell_type": "code",
   "execution_count": null,
   "metadata": {},
   "outputs": [],
   "source": []
  }
 ],
 "metadata": {
  "kernelspec": {
   "display_name": "Python 3",
   "language": "python",
   "name": "python3"
  },
  "language_info": {
   "codemirror_mode": {
    "name": "ipython",
    "version": 3
   },
   "file_extension": ".py",
   "mimetype": "text/x-python",
   "name": "python",
   "nbconvert_exporter": "python",
   "pygments_lexer": "ipython3",
   "version": "3.10.12"
  }
 },
 "nbformat": 4,
 "nbformat_minor": 2
}
