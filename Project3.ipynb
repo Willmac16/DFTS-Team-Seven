{
 "cells": [
  {
   "cell_type": "code",
   "execution_count": 14,
   "metadata": {},
   "outputs": [],
   "source": [
    "%%capture\n",
    "%pip install pint numpy git+https://github.com/MarkusPic/moody_chart.git\n",
    "\n",
    "import numpy as np\n",
    "import pint\n",
    "ureg = pint.UnitRegistry()\n",
    "import moody_chart\n",
    "import pyfluids # This does the thermodynamics"
   ]
  },
  {
   "cell_type": "code",
   "execution_count": 2,
   "metadata": {},
   "outputs": [],
   "source": [
    "GRAVITY = 9.81 * ureg.m / ureg.s**2"
   ]
  },
  {
   "cell_type": "markdown",
   "metadata": {},
   "source": [
    "## Overall State Variables when Optimizing\n",
    "\n",
    "* Mass flow rate (possible two up values)\n",
    "* Turbine Outlet Pressure\n",
    "* Compressor Outlet Pressure\n",
    "* Turbine & Compressor Efficiency"
   ]
  },
  {
   "cell_type": "markdown",
   "metadata": {},
   "source": [
    "# Stuff To Check\n",
    "* Make condenser outlet match the CO_2 Supply"
   ]
  },
  {
   "cell_type": "markdown",
   "metadata": {},
   "source": [
    "## Vertical Pipe Slices"
   ]
  },
  {
   "cell_type": "markdown",
   "metadata": {},
   "source": [
    "Fluid State Vector into each slice\n",
    "\n",
    "Forward Euler to solve for the state vector at the end of the slice\n",
    "\n",
    "constant mass flow rate down\n",
    "\n",
    "* Enthalpy\n",
    "  + Changes by Heat Transfer\n",
    "    - Constant Soil Temp given the linear\n",
    "    - slice of 2m of soil\n",
    "    - cond through 3 pipe layer stackup\n",
    "    - convective analysis with const Ts\n",
    "  + Increases by frictional losses\n",
    "  \n",
    "\n",
    "* Pressure\n",
    "  + Increase by rho g delta Z\n",
    "  + Decrease by frictional losses"
   ]
  },
  {
   "cell_type": "code",
   "execution_count": 3,
   "metadata": {},
   "outputs": [],
   "source": [
    "def radial_thermal_conduction(inner_radius, outer_radius, conductivity):\n",
    "    return np.ln(outer_radius / inner_radius) / (2 * np.pi * conductivity * (outer_radius - inner_radius))"
   ]
  },
  {
   "cell_type": "code",
   "execution_count": 4,
   "metadata": {},
   "outputs": [],
   "source": [
    "def thermal_convection(velocity, radius, conductivity, prandtl, kinematic_viscosity):\n",
    "    reynolds = 2 * radius * velocity / kinematic_viscosity\n",
    "\n",
    "    if reynolds < 2300:\n",
    "        nusselt = 3.66\n",
    "    else:\n",
    "        nusselt = 0.023 * reynolds ** 0.8 * prandtl ** 0.3\n",
    "    \n",
    "    return nusselt * conductivity / (2 * radius)"
   ]
  },
  {
   "cell_type": "code",
   "execution_count": 5,
   "metadata": {},
   "outputs": [],
   "source": [
    "def friction_head_loss(velocity, diameter, length):\n",
    "    friction_factor = 0.0\n",
    "\n",
    "    return friction_factor * length / diameter * velocity ** 2 / 2 / GRAVITY"
   ]
  },
  {
   "cell_type": "markdown",
   "metadata": {},
   "source": [
    "## Flow Through Formation"
   ]
  },
  {
   "cell_type": "markdown",
   "metadata": {},
   "source": [
    "### Heat Transfer"
   ]
  },
  {
   "cell_type": "code",
   "execution_count": 13,
   "metadata": {},
   "outputs": [],
   "source": [
    "A = 2 * ureg.meter ** 2\n",
    "r = A ** 0.5 / np.pi\n",
    "P = r * 2 * np.pi\n",
    "\n",
    "def in_formation_heat_transfer(mass_flow, well_to_well, soil_conductivity):\n",
    "    well_temp = 220 * ureg.degC\n",
    "\n",
    "    nusselt = 450\n",
    "\n",
    "    h = nusselt * soil_conductivity / (2 * r)\n",
    "\n",
    "    outlet_to_inlet_ratio = np.exp(-P * well_to_well * h / (mass_flow * inlet_specifc_heat))\n",
    "\n",
    "    return outlet_to_inlet_ratio"
   ]
  },
  {
   "cell_type": "markdown",
   "metadata": {},
   "source": [
    "### Pressure Drop"
   ]
  },
  {
   "cell_type": "code",
   "execution_count": 12,
   "metadata": {},
   "outputs": [],
   "source": [
    "def in_formation_pressure_drop(volumetric_flow, viscosity, well_to_well):\n",
    "    perm = 1e-12 * ureg.meter ** 2\n",
    "    \n",
    "    return volumetric_flow * viscosity * well_to_well / A / perm"
   ]
  },
  {
   "cell_type": "markdown",
   "metadata": {},
   "source": [
    "## Condensor"
   ]
  },
  {
   "cell_type": "code",
   "execution_count": null,
   "metadata": {},
   "outputs": [],
   "source": [
    "def UA_from_cond_ops(inlet_temp, outlet_temp, cold_well_temp, mass_flow_rate):\n",
    "    heat_transfer = mass_flow_rate * (inlet_enthalpy - outlet_enthalpy)\n",
    "\n",
    "    log_mean_temp = (inlet_temp - outlet_temp) / np.ln((inlet_temp - cold_well_temp) / (outlet_temp - cold_well_temp))\n",
    "\n",
    "    return heat_transfer / log_mean_temp"
   ]
  },
  {
   "cell_type": "markdown",
   "metadata": {},
   "source": [
    "## Constants"
   ]
  },
  {
   "cell_type": "code",
   "execution_count": 6,
   "metadata": {},
   "outputs": [
    {
     "data": {
      "text/html": [
       "<table><tbody><tr><th>Magnitude</th><td style='text-align:left;'><pre>[10 20]</pre></td></tr><tr><th>Units</th><td style='text-align:left;'>degree_Celsius</td></tr></tbody></table>"
      ],
      "text/latex": [
       "$\\begin{pmatrix} & \\end{pmatrix}\\ \\mathrm{degree\\_Celsius}$"
      ],
      "text/plain": [
       "array([10, 20]) <Unit('degree_Celsius')>"
      ]
     },
     "execution_count": 6,
     "metadata": {},
     "output_type": "execute_result"
    }
   ],
   "source": [
    "dioxide_temps = np.array([10, 20]) * ureg.degC\n",
    "dioxide_temps"
   ]
  },
  {
   "cell_type": "code",
   "execution_count": 7,
   "metadata": {},
   "outputs": [
    {
     "data": {
      "text/html": [
       "6000000.0 pascal"
      ],
      "text/latex": [
       "$6000000.0\\ \\mathrm{pascal}$"
      ],
      "text/plain": [
       "6000000.0 <Unit('pascal')>"
      ]
     },
     "execution_count": 7,
     "metadata": {},
     "output_type": "execute_result"
    }
   ],
   "source": [
    "dioxide_pressure = 6e6 * ureg.pascals\n",
    "dioxide_pressure"
   ]
  },
  {
   "cell_type": "code",
   "execution_count": 8,
   "metadata": {},
   "outputs": [
    {
     "data": {
      "text/html": [
       "<table><tbody><tr><th>Magnitude</th><td style='text-align:left;'><pre>[ 70 112]</pre></td></tr><tr><th>Units</th><td style='text-align:left;'>meter</td></tr></tbody></table>"
      ],
      "text/latex": [
       "$\\begin{pmatrix} & \\end{pmatrix}\\ \\mathrm{meter}$"
      ],
      "text/plain": [
       "array([ 70, 112]) <Unit('meter')>"
      ]
     },
     "execution_count": 8,
     "metadata": {},
     "output_type": "execute_result"
    }
   ],
   "source": [
    "well_dists = np.array([70, 112]) * ureg.meters\n",
    "well_dists"
   ]
  }
 ],
 "metadata": {
  "kernelspec": {
   "display_name": "Python 3",
   "language": "python",
   "name": "python3"
  },
  "language_info": {
   "codemirror_mode": {
    "name": "ipython",
    "version": 3
   },
   "file_extension": ".py",
   "mimetype": "text/x-python",
   "name": "python",
   "nbconvert_exporter": "python",
   "pygments_lexer": "ipython3",
   "version": "3.10.12"
  }
 },
 "nbformat": 4,
 "nbformat_minor": 2
}
