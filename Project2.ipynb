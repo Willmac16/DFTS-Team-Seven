{
 "cells": [
  {
   "cell_type": "markdown",
   "metadata": {},
   "source": [
    "## Project 2: Thermoelectric Generator"
   ]
  },
  {
   "cell_type": "markdown",
   "metadata": {},
   "source": [
    "Import and Install Libraries"
   ]
  },
  {
   "cell_type": "code",
   "execution_count": 1,
   "metadata": {},
   "outputs": [
    {
     "name": "stdout",
     "output_type": "stream",
     "text": [
      "Requirement already satisfied: pandas in c:\\users\\obrau\\appdata\\local\\programs\\python\\python311\\lib\\site-packages (2.2.0)\n",
      "Requirement already satisfied: pyfluids in c:\\users\\obrau\\appdata\\local\\programs\\python\\python311\\lib\\site-packages (2.6.0)\n",
      "Requirement already satisfied: sympy in c:\\users\\obrau\\appdata\\local\\programs\\python\\python311\\lib\\site-packages (1.12)\n",
      "Requirement already satisfied: scipy in c:\\users\\obrau\\appdata\\local\\programs\\python\\python311\\lib\\site-packages (1.12.0)\n",
      "Requirement already satisfied: numpy in c:\\users\\obrau\\appdata\\local\\programs\\python\\python311\\lib\\site-packages (1.26.3)\n",
      "Requirement already satisfied: matplotlib in c:\\users\\obrau\\appdata\\local\\programs\\python\\python311\\lib\\site-packages (3.8.3)\n",
      "Requirement already satisfied: openpyxl in c:\\users\\obrau\\appdata\\local\\programs\\python\\python311\\lib\\site-packages (3.1.2)\n",
      "Requirement already satisfied: python-dateutil>=2.8.2 in c:\\users\\obrau\\appdata\\roaming\\python\\python311\\site-packages (from pandas) (2.8.2)\n",
      "Requirement already satisfied: pytz>=2020.1 in c:\\users\\obrau\\appdata\\local\\programs\\python\\python311\\lib\\site-packages (from pandas) (2023.4)\n",
      "Requirement already satisfied: tzdata>=2022.7 in c:\\users\\obrau\\appdata\\local\\programs\\python\\python311\\lib\\site-packages (from pandas) (2023.4)\n",
      "Requirement already satisfied: CoolProp==6.6.0 in c:\\users\\obrau\\appdata\\local\\programs\\python\\python311\\lib\\site-packages (from pyfluids) (6.6.0)\n",
      "Requirement already satisfied: tomli==2.0.1 in c:\\users\\obrau\\appdata\\local\\programs\\python\\python311\\lib\\site-packages (from pyfluids) (2.0.1)\n",
      "Requirement already satisfied: mpmath>=0.19 in c:\\users\\obrau\\appdata\\local\\programs\\python\\python311\\lib\\site-packages (from sympy) (1.3.0)\n",
      "Requirement already satisfied: contourpy>=1.0.1 in c:\\users\\obrau\\appdata\\local\\programs\\python\\python311\\lib\\site-packages (from matplotlib) (1.2.0)\n",
      "Requirement already satisfied: cycler>=0.10 in c:\\users\\obrau\\appdata\\local\\programs\\python\\python311\\lib\\site-packages (from matplotlib) (0.12.1)\n",
      "Requirement already satisfied: fonttools>=4.22.0 in c:\\users\\obrau\\appdata\\local\\programs\\python\\python311\\lib\\site-packages (from matplotlib) (4.49.0)\n",
      "Requirement already satisfied: kiwisolver>=1.3.1 in c:\\users\\obrau\\appdata\\local\\programs\\python\\python311\\lib\\site-packages (from matplotlib) (1.4.5)\n",
      "Requirement already satisfied: packaging>=20.0 in c:\\users\\obrau\\appdata\\roaming\\python\\python311\\site-packages (from matplotlib) (23.2)\n",
      "Requirement already satisfied: pillow>=8 in c:\\users\\obrau\\appdata\\local\\programs\\python\\python311\\lib\\site-packages (from matplotlib) (10.2.0)\n",
      "Requirement already satisfied: pyparsing>=2.3.1 in c:\\users\\obrau\\appdata\\local\\programs\\python\\python311\\lib\\site-packages (from matplotlib) (3.1.1)\n",
      "Requirement already satisfied: et-xmlfile in c:\\users\\obrau\\appdata\\local\\programs\\python\\python311\\lib\\site-packages (from openpyxl) (1.1.0)\n",
      "Requirement already satisfied: six>=1.5 in c:\\users\\obrau\\appdata\\roaming\\python\\python311\\site-packages (from python-dateutil>=2.8.2->pandas) (1.16.0)\n",
      "Note: you may need to restart the kernel to use updated packages.\n"
     ]
    },
    {
     "name": "stderr",
     "output_type": "stream",
     "text": [
      "\n",
      "[notice] A new release of pip available: 22.3.1 -> 24.0\n",
      "[notice] To update, run: python.exe -m pip install --upgrade pip\n",
      "C:\\Users\\obrau\\AppData\\Local\\Temp\\ipykernel_27032\\429236754.py:3: DeprecationWarning: \n",
      "Pyarrow will become a required dependency of pandas in the next major release of pandas (pandas 3.0),\n",
      "(to allow more performant data types, such as the Arrow string type, and better interoperability with other libraries)\n",
      "but was not found to be installed on your system.\n",
      "If this would cause problems for you,\n",
      "please provide us feedback at https://github.com/pandas-dev/pandas/issues/54466\n",
      "        \n",
      "  import pandas as pd # This makes nice tables\n"
     ]
    }
   ],
   "source": [
    "%pip install pandas pyfluids sympy scipy numpy matplotlib openpyxl\n",
    "\n",
    "import pandas as pd # This makes nice tables\n",
    "import pyfluids # This does the thermodynamics\n",
    "import math\n",
    "import scipy.optimize\n",
    "from sympy import symbols, Eq, solve\n",
    "import numpy as np\n",
    "import matplotlib.pyplot as plt"
   ]
  },
  {
   "cell_type": "markdown",
   "metadata": {},
   "source": [
    "Power Requirements"
   ]
  },
  {
   "cell_type": "code",
   "execution_count": 2,
   "metadata": {},
   "outputs": [
    {
     "data": {
      "text/html": [
       "<div>\n",
       "<style scoped>\n",
       "    .dataframe tbody tr th:only-of-type {\n",
       "        vertical-align: middle;\n",
       "    }\n",
       "\n",
       "    .dataframe tbody tr th {\n",
       "        vertical-align: top;\n",
       "    }\n",
       "\n",
       "    .dataframe thead th {\n",
       "        text-align: right;\n",
       "    }\n",
       "</style>\n",
       "<table border=\"1\" class=\"dataframe\">\n",
       "  <thead>\n",
       "    <tr style=\"text-align: right;\">\n",
       "      <th></th>\n",
       "      <th>Component</th>\n",
       "      <th>Peak Amperage Draw (mA)</th>\n",
       "      <th>Power Draw (W)</th>\n",
       "    </tr>\n",
       "  </thead>\n",
       "  <tbody>\n",
       "    <tr>\n",
       "      <th>0</th>\n",
       "      <td>Raspberry Pi Pico</td>\n",
       "      <td>42.0</td>\n",
       "      <td>0.13860</td>\n",
       "    </tr>\n",
       "    <tr>\n",
       "      <th>1</th>\n",
       "      <td>Lora Radio Module</td>\n",
       "      <td>125.0</td>\n",
       "      <td>0.41250</td>\n",
       "    </tr>\n",
       "    <tr>\n",
       "      <th>2</th>\n",
       "      <td>pH Sensor</td>\n",
       "      <td>13.3</td>\n",
       "      <td>0.04389</td>\n",
       "    </tr>\n",
       "    <tr>\n",
       "      <th>3</th>\n",
       "      <td>Salinity</td>\n",
       "      <td>34.0</td>\n",
       "      <td>0.11220</td>\n",
       "    </tr>\n",
       "  </tbody>\n",
       "</table>\n",
       "</div>"
      ],
      "text/plain": [
       "           Component  Peak Amperage Draw (mA)  Power Draw (W)\n",
       "0  Raspberry Pi Pico                     42.0         0.13860\n",
       "1  Lora Radio Module                    125.0         0.41250\n",
       "2          pH Sensor                     13.3         0.04389\n",
       "3           Salinity                     34.0         0.11220"
      ]
     },
     "execution_count": 2,
     "metadata": {},
     "output_type": "execute_result"
    }
   ],
   "source": [
    "power_data = [\n",
    "    [\"Raspberry Pi Pico\", 42, 0.1386],\n",
    "    [\"Lora Radio Module\", 125, 0.4125],\n",
    "    [\"pH Sensor\", 13.3, 0.04389],\n",
    "    [\"Salinity\", 34, 0.1122],\n",
    "]\n",
    "power_draw = pd.DataFrame(power_data, columns=[\"Component\", \"Peak Amperage Draw (mA)\", \"Power Draw (W)\"])\n",
    "\n",
    "power_draw"
   ]
  },
  {
   "cell_type": "markdown",
   "metadata": {},
   "source": [
    "Temperature Data"
   ]
  },
  {
   "cell_type": "code",
   "execution_count": 3,
   "metadata": {},
   "outputs": [
    {
     "data": {
      "text/html": [
       "<div>\n",
       "<style scoped>\n",
       "    .dataframe tbody tr th:only-of-type {\n",
       "        vertical-align: middle;\n",
       "    }\n",
       "\n",
       "    .dataframe tbody tr th {\n",
       "        vertical-align: top;\n",
       "    }\n",
       "\n",
       "    .dataframe thead th {\n",
       "        text-align: right;\n",
       "    }\n",
       "</style>\n",
       "<table border=\"1\" class=\"dataframe\">\n",
       "  <thead>\n",
       "    <tr style=\"text-align: right;\">\n",
       "      <th></th>\n",
       "      <th>Month</th>\n",
       "      <th>Min Average Temp (C)</th>\n",
       "    </tr>\n",
       "  </thead>\n",
       "  <tbody>\n",
       "    <tr>\n",
       "      <th>0</th>\n",
       "      <td>1</td>\n",
       "      <td>24</td>\n",
       "    </tr>\n",
       "    <tr>\n",
       "      <th>1</th>\n",
       "      <td>2</td>\n",
       "      <td>25</td>\n",
       "    </tr>\n",
       "    <tr>\n",
       "      <th>2</th>\n",
       "      <td>3</td>\n",
       "      <td>26</td>\n",
       "    </tr>\n",
       "    <tr>\n",
       "      <th>3</th>\n",
       "      <td>4</td>\n",
       "      <td>21</td>\n",
       "    </tr>\n",
       "  </tbody>\n",
       "</table>\n",
       "</div>"
      ],
      "text/plain": [
       "   Month  Min Average Temp (C)\n",
       "0      1                    24\n",
       "1      2                    25\n",
       "2      3                    26\n",
       "3      4                    21"
      ]
     },
     "execution_count": 3,
     "metadata": {},
     "output_type": "execute_result"
    }
   ],
   "source": [
    "minT_data = [\n",
    "    [1,24],\n",
    "    [2,25],\n",
    "    [3,26],\n",
    "    [4,21],\n",
    "]\n",
    "min_Temp = pd.DataFrame(minT_data, columns=[\"Month\", \"Min Average Temp (C)\"])\n",
    "\n",
    "min_Temp"
   ]
  },
  {
   "cell_type": "code",
   "execution_count": 4,
   "metadata": {},
   "outputs": [
    {
     "data": {
      "text/html": [
       "<div>\n",
       "<style scoped>\n",
       "    .dataframe tbody tr th:only-of-type {\n",
       "        vertical-align: middle;\n",
       "    }\n",
       "\n",
       "    .dataframe tbody tr th {\n",
       "        vertical-align: top;\n",
       "    }\n",
       "\n",
       "    .dataframe thead th {\n",
       "        text-align: right;\n",
       "    }\n",
       "</style>\n",
       "<table border=\"1\" class=\"dataframe\">\n",
       "  <thead>\n",
       "    <tr style=\"text-align: right;\">\n",
       "      <th></th>\n",
       "      <th>Month</th>\n",
       "      <th>Max Average Temp (C)</th>\n",
       "    </tr>\n",
       "  </thead>\n",
       "  <tbody>\n",
       "    <tr>\n",
       "      <th>0</th>\n",
       "      <td>1</td>\n",
       "      <td>32</td>\n",
       "    </tr>\n",
       "    <tr>\n",
       "      <th>1</th>\n",
       "      <td>2</td>\n",
       "      <td>36</td>\n",
       "    </tr>\n",
       "    <tr>\n",
       "      <th>2</th>\n",
       "      <td>3</td>\n",
       "      <td>37</td>\n",
       "    </tr>\n",
       "    <tr>\n",
       "      <th>3</th>\n",
       "      <td>4</td>\n",
       "      <td>32</td>\n",
       "    </tr>\n",
       "  </tbody>\n",
       "</table>\n",
       "</div>"
      ],
      "text/plain": [
       "   Month  Max Average Temp (C)\n",
       "0      1                    32\n",
       "1      2                    36\n",
       "2      3                    37\n",
       "3      4                    32"
      ]
     },
     "execution_count": 4,
     "metadata": {},
     "output_type": "execute_result"
    }
   ],
   "source": [
    "maxT_data = [\n",
    "    [1,32],\n",
    "    [2,36],\n",
    "    [3,37],\n",
    "    [4,32],\n",
    "]\n",
    "max_Temp = pd.DataFrame(maxT_data, columns=[\"Month\", \"Max Average Temp (C)\"])\n",
    "\n",
    "max_Temp"
   ]
  },
  {
   "cell_type": "markdown",
   "metadata": {},
   "source": [
    "Solar Irradiation"
   ]
  },
  {
   "cell_type": "code",
   "execution_count": 5,
   "metadata": {},
   "outputs": [
    {
     "data": {
      "text/html": [
       "<div>\n",
       "<style scoped>\n",
       "    .dataframe tbody tr th:only-of-type {\n",
       "        vertical-align: middle;\n",
       "    }\n",
       "\n",
       "    .dataframe tbody tr th {\n",
       "        vertical-align: top;\n",
       "    }\n",
       "\n",
       "    .dataframe thead th {\n",
       "        text-align: right;\n",
       "    }\n",
       "</style>\n",
       "<table border=\"1\" class=\"dataframe\">\n",
       "  <thead>\n",
       "    <tr style=\"text-align: right;\">\n",
       "      <th></th>\n",
       "      <th>Solar Irradiation</th>\n",
       "      <th>Daily Output (kWh/m^2)</th>\n",
       "    </tr>\n",
       "  </thead>\n",
       "  <tbody>\n",
       "    <tr>\n",
       "      <th>0</th>\n",
       "      <td>Min</td>\n",
       "      <td>4.38</td>\n",
       "    </tr>\n",
       "    <tr>\n",
       "      <th>1</th>\n",
       "      <td>Max</td>\n",
       "      <td>4.93</td>\n",
       "    </tr>\n",
       "  </tbody>\n",
       "</table>\n",
       "</div>"
      ],
      "text/plain": [
       "  Solar Irradiation  Daily Output (kWh/m^2)\n",
       "0               Min                    4.38\n",
       "1               Max                    4.93"
      ]
     },
     "execution_count": 5,
     "metadata": {},
     "output_type": "execute_result"
    }
   ],
   "source": [
    "irradiation_data = [\n",
    "    [\"Min\",4.38],\n",
    "    [\"Max\",4.93],\n",
    "]\n",
    "irradiation = pd.DataFrame(irradiation_data, columns=[\"Solar Irradiation\", \"Daily Output (kWh/m^2)\"])\n",
    "\n",
    "irradiation"
   ]
  },
  {
   "cell_type": "markdown",
   "metadata": {},
   "source": [
    "Wind Speed"
   ]
  },
  {
   "cell_type": "code",
   "execution_count": 6,
   "metadata": {},
   "outputs": [
    {
     "data": {
      "text/html": [
       "<div>\n",
       "<style scoped>\n",
       "    .dataframe tbody tr th:only-of-type {\n",
       "        vertical-align: middle;\n",
       "    }\n",
       "\n",
       "    .dataframe tbody tr th {\n",
       "        vertical-align: top;\n",
       "    }\n",
       "\n",
       "    .dataframe thead th {\n",
       "        text-align: right;\n",
       "    }\n",
       "</style>\n",
       "<table border=\"1\" class=\"dataframe\">\n",
       "  <thead>\n",
       "    <tr style=\"text-align: right;\">\n",
       "      <th></th>\n",
       "      <th>Average Wind Speed (m/s)</th>\n",
       "    </tr>\n",
       "  </thead>\n",
       "  <tbody>\n",
       "    <tr>\n",
       "      <th>0</th>\n",
       "      <td>3</td>\n",
       "    </tr>\n",
       "  </tbody>\n",
       "</table>\n",
       "</div>"
      ],
      "text/plain": [
       "   Average Wind Speed (m/s)\n",
       "0                         3"
      ]
     },
     "execution_count": 6,
     "metadata": {},
     "output_type": "execute_result"
    }
   ],
   "source": [
    "wind_Data = [[3]]\n",
    "wind_Speed = pd.DataFrame(wind_Data,columns = [\"Average Wind Speed (m/s)\"])\n",
    "wind_Speed"
   ]
  },
  {
   "cell_type": "markdown",
   "metadata": {},
   "source": [
    "Hourly Constants"
   ]
  },
  {
   "cell_type": "code",
   "execution_count": 7,
   "metadata": {},
   "outputs": [
    {
     "name": "stdout",
     "output_type": "stream",
     "text": [
      "Index(['Month', 'Day', 'Hour', 'Beam Irradiance (W/m2)',\n",
      "       'Diffuse Irradiance (W/m2)', 'Ambient Temperature (C)',\n",
      "       'Wind Speed (m/s)'],\n",
      "      dtype='object')\n",
      "   Month  Day  Hour  Beam Irradiance (W/m2)  Diffuse Irradiance (W/m2)  \\\n",
      "0      6    1     0                       0                          0   \n",
      "1      6    1     1                       0                          0   \n",
      "2      6    1     2                       0                          0   \n",
      "3      6    1     3                       0                          0   \n",
      "4      6    1     4                       0                          0   \n",
      "\n",
      "   Ambient Temperature (C)  Wind Speed (m/s)  \n",
      "0                       21               0.8  \n",
      "1                       21               0.8  \n",
      "2                       20               0.7  \n",
      "3                       20               0.7  \n",
      "4                       20               0.7  \n"
     ]
    }
   ],
   "source": [
    "# Load the Excel file into a pandas DataFrame\n",
    "constant_frame = pd.read_excel('HourlyConstants.xlsx', header=1)\n",
    "\n",
    "print(constant_frame.columns)\n",
    "\n",
    "# Now you can work with the DataFrame 'df'\n",
    "print(constant_frame.head())  # Display the first few rows of the DataFrame?"
   ]
  },
  {
   "cell_type": "markdown",
   "metadata": {},
   "source": [
    "Heat Transfer Characteristics"
   ]
  },
  {
   "cell_type": "code",
   "execution_count": 8,
   "metadata": {},
   "outputs": [
    {
     "data": {
      "text/html": [
       "<div>\n",
       "<style scoped>\n",
       "    .dataframe tbody tr th:only-of-type {\n",
       "        vertical-align: middle;\n",
       "    }\n",
       "\n",
       "    .dataframe tbody tr th {\n",
       "        vertical-align: top;\n",
       "    }\n",
       "\n",
       "    .dataframe thead th {\n",
       "        text-align: right;\n",
       "    }\n",
       "</style>\n",
       "<table border=\"1\" class=\"dataframe\">\n",
       "  <thead>\n",
       "    <tr style=\"text-align: right;\">\n",
       "      <th></th>\n",
       "      <th>Parameter</th>\n",
       "      <th>Value</th>\n",
       "      <th>Units/Notes</th>\n",
       "    </tr>\n",
       "  </thead>\n",
       "  <tbody>\n",
       "    <tr>\n",
       "      <th>0</th>\n",
       "      <td>Number of Units</td>\n",
       "      <td>21.00000</td>\n",
       "      <td>3 sets of 7 in series</td>\n",
       "    </tr>\n",
       "    <tr>\n",
       "      <th>1</th>\n",
       "      <td>Unit Length</td>\n",
       "      <td>0.03000</td>\n",
       "      <td>m</td>\n",
       "    </tr>\n",
       "    <tr>\n",
       "      <th>2</th>\n",
       "      <td>Unit Thickness</td>\n",
       "      <td>0.00375</td>\n",
       "      <td>m</td>\n",
       "    </tr>\n",
       "    <tr>\n",
       "      <th>3</th>\n",
       "      <td>Thermal Conductivity</td>\n",
       "      <td>1.72000</td>\n",
       "      <td>W/mK</td>\n",
       "    </tr>\n",
       "    <tr>\n",
       "      <th>4</th>\n",
       "      <td>Emissivity</td>\n",
       "      <td>0.90000</td>\n",
       "      <td>Painted Black</td>\n",
       "    </tr>\n",
       "    <tr>\n",
       "      <th>5</th>\n",
       "      <td>Absorptivity</td>\n",
       "      <td>0.90000</td>\n",
       "      <td>Painted Black</td>\n",
       "    </tr>\n",
       "    <tr>\n",
       "      <th>6</th>\n",
       "      <td>Assumed Water Temperature</td>\n",
       "      <td>30.00000</td>\n",
       "      <td>Degree C</td>\n",
       "    </tr>\n",
       "  </tbody>\n",
       "</table>\n",
       "</div>"
      ],
      "text/plain": [
       "                   Parameter     Value            Units/Notes\n",
       "0            Number of Units  21.00000  3 sets of 7 in series\n",
       "1                Unit Length   0.03000                      m\n",
       "2             Unit Thickness   0.00375                      m\n",
       "3       Thermal Conductivity   1.72000                   W/mK\n",
       "4                 Emissivity   0.90000          Painted Black\n",
       "5               Absorptivity   0.90000          Painted Black\n",
       "6  Assumed Water Temperature  30.00000               Degree C"
      ]
     },
     "execution_count": 8,
     "metadata": {},
     "output_type": "execute_result"
    }
   ],
   "source": [
    "heat_data = [\n",
    "    [\"Number of Units\",21,\"3 sets of 7 in series\"],\n",
    "    [\"Unit Length\",0.03,\"m\"],\n",
    "    [\"Unit Thickness\",3.75E-3,\"m\"],\n",
    "    [\"Thermal Conductivity\",1.72,\"W/mK\"],\n",
    "    [\"Emissivity\",.9,\"Painted Black\"],\n",
    "    [\"Absorptivity\",.9,\"Painted Black\"],\n",
    "    [\"Assumed Water Temperature\",30,\"Degree C\"],\n",
    "]\n",
    "heat_parameters = pd.DataFrame(heat_data, columns=[\"Parameter\", \"Value\",\"Units/Notes\"])\n",
    "\n",
    "heat_parameters"
   ]
  },
  {
   "cell_type": "code",
   "execution_count": 9,
   "metadata": {},
   "outputs": [],
   "source": [
    "from pyfluids import Fluid, FluidsList, Input\n",
    "\n",
    "water = Fluid(FluidsList.Water)\n",
    "\n",
    "water_ambient = water.with_state(\n",
    "    Input.pressure(101325), Input.temperature(30)\n",
    ")\n",
    "#print(water_ambient.density)"
   ]
  },
  {
   "cell_type": "markdown",
   "metadata": {},
   "source": [
    "Natural Convection for the Bottom of the Plate"
   ]
  },
  {
   "cell_type": "code",
   "execution_count": 10,
   "metadata": {},
   "outputs": [],
   "source": [
    "def calcBeta(Tc,Tw):\n",
    "\n",
    "    water_Amb = water.with_state(\n",
    "    Input.pressure(101325), Input.temperature(Tw-273)\n",
    "    )\n",
    "\n",
    "    rhoAmb= water_Amb.density\n",
    "\n",
    "    T = Tc - 273\n",
    "    rho = (999.83952 + 16.945176 * T - 7.9870401E-3 * (T**2) - 49.170461E-6 * (T**3) + 105.56302E-9 * (T**4) - 280.54253E-12 * (T**5))/(1+16.897850E-3 * T)\n",
    "    print(rho)\n",
    "\n",
    "    beta = -1/rho * (rhoAmb-rho)/(Tw-Tc)\n",
    "    return beta\n"
   ]
  },
  {
   "cell_type": "code",
   "execution_count": 11,
   "metadata": {},
   "outputs": [],
   "source": [
    "def calcRalyeighNumber(beta, Tc, Tw, x, alpha):\n",
    "    #Find dT\n",
    "    deltaT = Tc - Tw\n",
    "    #Define Constants\n",
    "    g = 9.81\n",
    "    kinematic_viscosity = 8.005E-7\n",
    "    #Calculate Ra\n",
    "    Rax  = abs(g * beta * deltaT * (x)**3 / (kinematic_viscosity * alpha))\n",
    "    return Rax"
   ]
  },
  {
   "cell_type": "code",
   "execution_count": 12,
   "metadata": {},
   "outputs": [],
   "source": [
    "def bottomConvection(Tc,Tw,L,alpha):\n",
    "    Pr = 6.9\n",
    "    beta = calcBeta(Tc,Tw)\n",
    "    \n",
    "    #Calculate Ralyeigh Number at x = L\n",
    "    RaL = calcRalyeighNumber(beta,Tc, Tw, L, alpha)\n",
    "\n",
    "    #Critical Rayleigh Number\n",
    "    if RaL < 1E9:\n",
    "        NuL = 0.68 + 0.670 * (RaL) ** (1/4) / (( 1- (0.492/Pr) ** (9/16)) ** (4/9))\n",
    "    else:\n",
    "        NuL = (0.825+ 0.397 * (RaL) ** (1/6) / (( 1 + (0.492/Pr) ** (9/16)) ** (8/27))**2)\n",
    "\n",
    "    kf = 0.598E-3 # kW/mK\n",
    "\n",
    "\n",
    "    return NuL\n",
    "\n"
   ]
  },
  {
   "cell_type": "markdown",
   "metadata": {},
   "source": [
    "Forced Convection on Top of the Plate"
   ]
  },
  {
   "cell_type": "code",
   "execution_count": 13,
   "metadata": {},
   "outputs": [],
   "source": [
    "def topForcedConvectionCoefficient(u,Lplate):\n",
    "    #Forced Convection on the top of the plate\n",
    "    #Constants for \n",
    "    kf = 27.06 #kW/(mk)\n",
    "    kinematic_viscosity = 1.61E-5\n",
    "    Pr = 0.71\n",
    "\n",
    "    Re = (u**2)  * Lplate / (kinematic_viscosity)\n",
    "\n",
    "    NuL = 0.453 * (Re ** (1/2)) * (Pr ** 1/3)\n",
    "    ha = NuL * kf / Lplate\n",
    "\n",
    "    return ha\n"
   ]
  },
  {
   "cell_type": "markdown",
   "metadata": {},
   "source": [
    "Heat Balance Equations"
   ]
  },
  {
   "cell_type": "code",
   "execution_count": 14,
   "metadata": {},
   "outputs": [],
   "source": [
    "def updatedSolution(u,Lplate,Tw, L, alpha,G,epsilon,Tamb,Kt,N,t):\n",
    "    #Calculate Coefficient for Top of the Plate\n",
    "        #This independent of Th,Tc\n",
    "    ha = topForcedConvectionCoefficient(u,Lplate)\n",
    "\n",
    "    Th, Tc, hw, rho = symbols('Th Tc hw rho')\n",
    "\n",
    "    sigma = 5.67E-8\n",
    "\n",
    "    RHS = G*alpha - sigma * epsilon * (Th)**4 - ha * (Th-Tamb) \n",
    "    LHS = N * Kt * t * (Th-Tc)\n",
    " \n",
    "    eq1 = Eq(RHS, LHS)\n",
    "    eq2 = Eq(N*Kt*t * (Th-Tc), hw * (Tc-Tw))\n",
    "\n",
    "\n",
    "    #Caclulate hw\n",
    "    water_Amb = water.with_state(\n",
    "    Input.pressure(101325), Input.temperature(Tw-273)\n",
    "    )\n",
    "\n",
    "    rhoAmb = water_Amb.density\n",
    "    \n",
    "    #rho = (999.83952 + 16.945176 * (Tc - 273) - 7.9870401E-3 * ((Tc - 273)**2) - 49.170461E-6 * ((Tc - 273)**3) + 105.56302E-9 * ((Tc - 273)**4) - 280.54253E-12 * ((Tc - 273)**5))/(1+16.897850E-3 * (Tc - 273))\n",
    "    eqn4 = Eq(rho,(999.83952 + 16.945176 * (Tc - 273) - 7.9870401E-3 * ((Tc - 273)**2) - 49.170461E-6 * ((Tc - 273)**3) + 105.56302E-9 * ((Tc - 273)**4) - 280.54253E-12 * ((Tc - 273)**5))/(1+16.897850E-3 * (Tc - 273)))\n",
    "\n",
    "    Beta = -1/rho * (rhoAmb-rho)/(Tw-Tc)\n",
    "    \n",
    "    #Calculate Ralyeigh Number at x = L\n",
    "    #Find dT\n",
    "    deltaT = Tc - Tw\n",
    "    #Define Constants\n",
    "    g = 9.81\n",
    "    kinematic_viscosity = 8.005E-7\n",
    "    #Calculate Ra\n",
    "    RaL  = abs(g * Beta * deltaT * (L)**3 / (kinematic_viscosity * alpha))\n",
    "    \n",
    "    Pr = 6.9\n",
    "    #Critical Rayleigh Number\n",
    "    NuL = 0.68 + 0.670 * (RaL) ** (1/4) / (( 1- (0.492/Pr) ** (9/16)) ** (4/9))\n",
    "    #if RaL < 1E9:\n",
    "     #   NuL = 0.68 + 0.670 * (RaL) ** (1/4) / (( 1- (0.492/Pr) ** (9/16)) ** (4/9))\n",
    "   # else:\n",
    "       # NuL = (0.825+ 0.397 * (RaL) ** (1/6) / (( 1 + (0.492/Pr) ** (9/16)) ** (8/27))**2)\n",
    "\n",
    "    eqn3 = Eq(hw,NuL* 0.6/L)\n",
    "\n",
    "    solution = solve((eq1, eq2,eqn3,eqn4), (Th, Tc, hw,rho))\n",
    "    print(solution)\n",
    "    \n"
   ]
  },
  {
   "cell_type": "code",
   "execution_count": 15,
   "metadata": {},
   "outputs": [
    {
     "ename": "NotImplementedError",
     "evalue": "solving Abs((995.649453937642 + (-16.945176*Tc + 2.8054253e-10*(Tc - 273)**5 - 1.0556302e-7*(Tc - 273)**4 + 4.9170461e-5*(Tc - 273)**3 + 0.0079870401*(Tc - 273)**2 + 3626.193528)/(0.01689785*Tc - 3.61311305))*(0.01689785*Tc - 3.61311305)/(-16.945176*Tc + 2.8054253e-10*(Tc - 273)**5 - 1.0556302e-7*(Tc - 273)**4 + 4.9170461e-5*(Tc - 273)**3 + 0.0079870401*(Tc - 273)**2 + 3626.193528)) when the argument is not real or imaginary.",
     "output_type": "error",
     "traceback": [
      "\u001b[1;31m---------------------------------------------------------------------------\u001b[0m",
      "\u001b[1;31mNotImplementedError\u001b[0m                       Traceback (most recent call last)",
      "Cell \u001b[1;32mIn[15], line 1\u001b[0m\n\u001b[1;32m----> 1\u001b[0m \u001b[43mupdatedSolution\u001b[49m\u001b[43m(\u001b[49m\u001b[38;5;241;43m3\u001b[39;49m\u001b[43m,\u001b[49m\u001b[38;5;241;43m0.5\u001b[39;49m\u001b[43m,\u001b[49m\u001b[38;5;241;43m30\u001b[39;49m\u001b[38;5;241;43m+\u001b[39;49m\u001b[38;5;241;43m273\u001b[39;49m\u001b[43m,\u001b[49m\u001b[43m \u001b[49m\u001b[38;5;241;43m0.5\u001b[39;49m\u001b[43m,\u001b[49m\u001b[43m \u001b[49m\u001b[38;5;241;43m0.9\u001b[39;49m\u001b[43m,\u001b[49m\u001b[38;5;241;43m5\u001b[39;49m\u001b[43m,\u001b[49m\u001b[38;5;241;43m0.9\u001b[39;49m\u001b[43m,\u001b[49m\u001b[38;5;241;43m36\u001b[39;49m\u001b[43m,\u001b[49m\u001b[38;5;241;43m1.7\u001b[39;49m\u001b[43m,\u001b[49m\u001b[38;5;241;43m21\u001b[39;49m\u001b[43m,\u001b[49m\u001b[38;5;241;43m3E-3\u001b[39;49m\u001b[43m)\u001b[49m\n",
      "Cell \u001b[1;32mIn[14], line 48\u001b[0m, in \u001b[0;36mupdatedSolution\u001b[1;34m(u, Lplate, Tw, L, alpha, G, epsilon, Tamb, Kt, N, t)\u001b[0m\n\u001b[0;32m     41\u001b[0m  \u001b[38;5;66;03m#if RaL < 1E9:\u001b[39;00m\n\u001b[0;32m     42\u001b[0m   \u001b[38;5;66;03m#   NuL = 0.68 + 0.670 * (RaL) ** (1/4) / (( 1- (0.492/Pr) ** (9/16)) ** (4/9))\u001b[39;00m\n\u001b[0;32m     43\u001b[0m \u001b[38;5;66;03m# else:\u001b[39;00m\n\u001b[0;32m     44\u001b[0m     \u001b[38;5;66;03m# NuL = (0.825+ 0.397 * (RaL) ** (1/6) / (( 1 + (0.492/Pr) ** (9/16)) ** (8/27))**2)\u001b[39;00m\n\u001b[0;32m     46\u001b[0m  eqn3 \u001b[38;5;241m=\u001b[39m Eq(hw,NuL\u001b[38;5;241m*\u001b[39m \u001b[38;5;241m0.6\u001b[39m\u001b[38;5;241m/\u001b[39mL)\n\u001b[1;32m---> 48\u001b[0m  solution \u001b[38;5;241m=\u001b[39m \u001b[43msolve\u001b[49m\u001b[43m(\u001b[49m\u001b[43m(\u001b[49m\u001b[43meq1\u001b[49m\u001b[43m,\u001b[49m\u001b[43m \u001b[49m\u001b[43meq2\u001b[49m\u001b[43m,\u001b[49m\u001b[43meqn3\u001b[49m\u001b[43m)\u001b[49m\u001b[43m,\u001b[49m\u001b[43m \u001b[49m\u001b[43m(\u001b[49m\u001b[43mTh\u001b[49m\u001b[43m,\u001b[49m\u001b[43m \u001b[49m\u001b[43mTc\u001b[49m\u001b[43m,\u001b[49m\u001b[43m \u001b[49m\u001b[43mhw\u001b[49m\u001b[43m)\u001b[49m\u001b[43m)\u001b[49m\n\u001b[0;32m     49\u001b[0m  \u001b[38;5;28mprint\u001b[39m(solution)\n",
      "File \u001b[1;32mc:\\Users\\obrau\\AppData\\Local\\Programs\\Python\\Python311\\Lib\\site-packages\\sympy\\solvers\\solvers.py:1007\u001b[0m, in \u001b[0;36msolve\u001b[1;34m(f, *symbols, **flags)\u001b[0m\n\u001b[0;32m   1005\u001b[0m \u001b[38;5;28;01mfor\u001b[39;00m e \u001b[38;5;129;01min\u001b[39;00m fi\u001b[38;5;241m.\u001b[39mfind(Abs):\n\u001b[0;32m   1006\u001b[0m     \u001b[38;5;28;01mif\u001b[39;00m e\u001b[38;5;241m.\u001b[39mhas(\u001b[38;5;241m*\u001b[39msymbols):\n\u001b[1;32m-> 1007\u001b[0m         \u001b[38;5;28;01mraise\u001b[39;00m \u001b[38;5;167;01mNotImplementedError\u001b[39;00m(\u001b[38;5;124m'\u001b[39m\u001b[38;5;124msolving \u001b[39m\u001b[38;5;132;01m%s\u001b[39;00m\u001b[38;5;124m when the argument \u001b[39m\u001b[38;5;124m'\u001b[39m\n\u001b[0;32m   1008\u001b[0m             \u001b[38;5;124m'\u001b[39m\u001b[38;5;124mis not real or imaginary.\u001b[39m\u001b[38;5;124m'\u001b[39m \u001b[38;5;241m%\u001b[39m e)\n\u001b[0;32m   1010\u001b[0m \u001b[38;5;66;03m# arg\u001b[39;00m\n\u001b[0;32m   1011\u001b[0m fi \u001b[38;5;241m=\u001b[39m fi\u001b[38;5;241m.\u001b[39mreplace(arg, \u001b[38;5;28;01mlambda\u001b[39;00m a: arg(a)\u001b[38;5;241m.\u001b[39mrewrite(atan2)\u001b[38;5;241m.\u001b[39mrewrite(atan))\n",
      "\u001b[1;31mNotImplementedError\u001b[0m: solving Abs((995.649453937642 + (-16.945176*Tc + 2.8054253e-10*(Tc - 273)**5 - 1.0556302e-7*(Tc - 273)**4 + 4.9170461e-5*(Tc - 273)**3 + 0.0079870401*(Tc - 273)**2 + 3626.193528)/(0.01689785*Tc - 3.61311305))*(0.01689785*Tc - 3.61311305)/(-16.945176*Tc + 2.8054253e-10*(Tc - 273)**5 - 1.0556302e-7*(Tc - 273)**4 + 4.9170461e-5*(Tc - 273)**3 + 0.0079870401*(Tc - 273)**2 + 3626.193528)) when the argument is not real or imaginary."
     ]
    }
   ],
   "source": [
    "updatedSolution(3,0.5,30+273, 0.5, 0.9,5,0.9,36,1.7,21,3E-3)"
   ]
  }
 ],
 "metadata": {
  "kernelspec": {
   "display_name": "Python 3",
   "language": "python",
   "name": "python3"
  },
  "language_info": {
   "codemirror_mode": {
    "name": "ipython",
    "version": 3
   },
   "file_extension": ".py",
   "mimetype": "text/x-python",
   "name": "python",
   "nbconvert_exporter": "python",
   "pygments_lexer": "ipython3",
   "version": "3.11.1"
  }
 },
 "nbformat": 4,
 "nbformat_minor": 2
}
