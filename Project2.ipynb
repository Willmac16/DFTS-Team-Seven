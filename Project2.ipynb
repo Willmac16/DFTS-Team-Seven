{
 "cells": [
  {
   "cell_type": "markdown",
   "metadata": {},
   "source": [
    "# Project 2: Thermoelectric Generator"
   ]
  },
  {
   "cell_type": "markdown",
   "metadata": {},
   "source": [
    "## Import and Install Libraries"
   ]
  },
  {
   "cell_type": "code",
   "execution_count": 15,
   "metadata": {},
   "outputs": [],
   "source": [
    "%%capture\n",
    "%pip install pandas pyfluids sympy scipy numpy matplotlib openpyxl\n",
    "\n",
    "import pandas as pd # This makes nice tables\n",
    "import pyfluids # This does the thermodynamics\n",
    "import math\n",
    "import numpy as np\n",
    "from scipy.optimize import fsolve\n",
    "from scipy.optimize import root\n",
    "import matplotlib.pyplot as plt"
   ]
  },
  {
   "cell_type": "markdown",
   "metadata": {},
   "source": [
    "## Power Requirements"
   ]
  },
  {
   "cell_type": "code",
   "execution_count": 31,
   "metadata": {},
   "outputs": [],
   "source": [
    "power_data = [\n",
    "    [\"Raspberry Pi Pico\", 42, 0.1386],\n",
    "    [\"Lora Radio Module\", 125, 0.4125],\n",
    "    [\"pH Sensor\", 13.3, 0.04389],\n",
    "    [\"Salinity\", 34, 0.1122],\n",
    "]\n",
    "power_draw = pd.DataFrame(power_data, columns=[\"Component\", \"Peak Amperage Draw (mA)\", \"Power Draw (W)\"])\n",
    "\n",
    "total_power_draw = power_draw['Power Draw (W)'].sum()"
   ]
  },
  {
   "cell_type": "markdown",
   "metadata": {},
   "source": [
    "## Temperature Data"
   ]
  },
  {
   "cell_type": "code",
   "execution_count": 17,
   "metadata": {},
   "outputs": [
    {
     "data": {
      "text/html": [
       "<div>\n",
       "<style scoped>\n",
       "    .dataframe tbody tr th:only-of-type {\n",
       "        vertical-align: middle;\n",
       "    }\n",
       "\n",
       "    .dataframe tbody tr th {\n",
       "        vertical-align: top;\n",
       "    }\n",
       "\n",
       "    .dataframe thead th {\n",
       "        text-align: right;\n",
       "    }\n",
       "</style>\n",
       "<table border=\"1\" class=\"dataframe\">\n",
       "  <thead>\n",
       "    <tr style=\"text-align: right;\">\n",
       "      <th></th>\n",
       "      <th>Month</th>\n",
       "      <th>Min Average Temp (C)</th>\n",
       "    </tr>\n",
       "  </thead>\n",
       "  <tbody>\n",
       "    <tr>\n",
       "      <th>0</th>\n",
       "      <td>1</td>\n",
       "      <td>24</td>\n",
       "    </tr>\n",
       "    <tr>\n",
       "      <th>1</th>\n",
       "      <td>2</td>\n",
       "      <td>25</td>\n",
       "    </tr>\n",
       "    <tr>\n",
       "      <th>2</th>\n",
       "      <td>3</td>\n",
       "      <td>26</td>\n",
       "    </tr>\n",
       "    <tr>\n",
       "      <th>3</th>\n",
       "      <td>4</td>\n",
       "      <td>21</td>\n",
       "    </tr>\n",
       "  </tbody>\n",
       "</table>\n",
       "</div>"
      ],
      "text/plain": [
       "   Month  Min Average Temp (C)\n",
       "0      1                    24\n",
       "1      2                    25\n",
       "2      3                    26\n",
       "3      4                    21"
      ]
     },
     "execution_count": 17,
     "metadata": {},
     "output_type": "execute_result"
    }
   ],
   "source": [
    "minT_data = [\n",
    "    [1,24],\n",
    "    [2,25],\n",
    "    [3,26],\n",
    "    [4,21],\n",
    "]\n",
    "min_Temp = pd.DataFrame(minT_data, columns=[\"Month\", \"Min Average Temp (C)\"])\n",
    "\n",
    "min_Temp"
   ]
  },
  {
   "cell_type": "code",
   "execution_count": 18,
   "metadata": {},
   "outputs": [
    {
     "data": {
      "text/html": [
       "<div>\n",
       "<style scoped>\n",
       "    .dataframe tbody tr th:only-of-type {\n",
       "        vertical-align: middle;\n",
       "    }\n",
       "\n",
       "    .dataframe tbody tr th {\n",
       "        vertical-align: top;\n",
       "    }\n",
       "\n",
       "    .dataframe thead th {\n",
       "        text-align: right;\n",
       "    }\n",
       "</style>\n",
       "<table border=\"1\" class=\"dataframe\">\n",
       "  <thead>\n",
       "    <tr style=\"text-align: right;\">\n",
       "      <th></th>\n",
       "      <th>Month</th>\n",
       "      <th>Max Average Temp (C)</th>\n",
       "    </tr>\n",
       "  </thead>\n",
       "  <tbody>\n",
       "    <tr>\n",
       "      <th>0</th>\n",
       "      <td>1</td>\n",
       "      <td>32</td>\n",
       "    </tr>\n",
       "    <tr>\n",
       "      <th>1</th>\n",
       "      <td>2</td>\n",
       "      <td>36</td>\n",
       "    </tr>\n",
       "    <tr>\n",
       "      <th>2</th>\n",
       "      <td>3</td>\n",
       "      <td>37</td>\n",
       "    </tr>\n",
       "    <tr>\n",
       "      <th>3</th>\n",
       "      <td>4</td>\n",
       "      <td>32</td>\n",
       "    </tr>\n",
       "  </tbody>\n",
       "</table>\n",
       "</div>"
      ],
      "text/plain": [
       "   Month  Max Average Temp (C)\n",
       "0      1                    32\n",
       "1      2                    36\n",
       "2      3                    37\n",
       "3      4                    32"
      ]
     },
     "execution_count": 18,
     "metadata": {},
     "output_type": "execute_result"
    }
   ],
   "source": [
    "maxT_data = [\n",
    "    [1,32],\n",
    "    [2,36],\n",
    "    [3,37],\n",
    "    [4,32],\n",
    "]\n",
    "max_Temp = pd.DataFrame(maxT_data, columns=[\"Month\", \"Max Average Temp (C)\"])\n",
    "\n",
    "max_Temp"
   ]
  },
  {
   "cell_type": "markdown",
   "metadata": {},
   "source": [
    "## Solar Irradiation"
   ]
  },
  {
   "cell_type": "code",
   "execution_count": 19,
   "metadata": {},
   "outputs": [
    {
     "data": {
      "text/html": [
       "<div>\n",
       "<style scoped>\n",
       "    .dataframe tbody tr th:only-of-type {\n",
       "        vertical-align: middle;\n",
       "    }\n",
       "\n",
       "    .dataframe tbody tr th {\n",
       "        vertical-align: top;\n",
       "    }\n",
       "\n",
       "    .dataframe thead th {\n",
       "        text-align: right;\n",
       "    }\n",
       "</style>\n",
       "<table border=\"1\" class=\"dataframe\">\n",
       "  <thead>\n",
       "    <tr style=\"text-align: right;\">\n",
       "      <th></th>\n",
       "      <th>Solar Irradiation</th>\n",
       "      <th>Daily Output (kWh/m^2)</th>\n",
       "    </tr>\n",
       "  </thead>\n",
       "  <tbody>\n",
       "    <tr>\n",
       "      <th>0</th>\n",
       "      <td>Min</td>\n",
       "      <td>4.38</td>\n",
       "    </tr>\n",
       "    <tr>\n",
       "      <th>1</th>\n",
       "      <td>Max</td>\n",
       "      <td>4.93</td>\n",
       "    </tr>\n",
       "  </tbody>\n",
       "</table>\n",
       "</div>"
      ],
      "text/plain": [
       "  Solar Irradiation  Daily Output (kWh/m^2)\n",
       "0               Min                    4.38\n",
       "1               Max                    4.93"
      ]
     },
     "execution_count": 19,
     "metadata": {},
     "output_type": "execute_result"
    }
   ],
   "source": [
    "irradiation_data = [\n",
    "    [\"Min\",4.38],\n",
    "    [\"Max\",4.93],\n",
    "]\n",
    "irradiation = pd.DataFrame(irradiation_data, columns=[\"Solar Irradiation\", \"Daily Output (kWh/m^2)\"])\n",
    "\n",
    "irradiation"
   ]
  },
  {
   "cell_type": "markdown",
   "metadata": {},
   "source": [
    "## Wind Speed"
   ]
  },
  {
   "cell_type": "code",
   "execution_count": 20,
   "metadata": {},
   "outputs": [
    {
     "data": {
      "text/html": [
       "<div>\n",
       "<style scoped>\n",
       "    .dataframe tbody tr th:only-of-type {\n",
       "        vertical-align: middle;\n",
       "    }\n",
       "\n",
       "    .dataframe tbody tr th {\n",
       "        vertical-align: top;\n",
       "    }\n",
       "\n",
       "    .dataframe thead th {\n",
       "        text-align: right;\n",
       "    }\n",
       "</style>\n",
       "<table border=\"1\" class=\"dataframe\">\n",
       "  <thead>\n",
       "    <tr style=\"text-align: right;\">\n",
       "      <th></th>\n",
       "      <th>Average Wind Speed (m/s)</th>\n",
       "    </tr>\n",
       "  </thead>\n",
       "  <tbody>\n",
       "    <tr>\n",
       "      <th>0</th>\n",
       "      <td>3</td>\n",
       "    </tr>\n",
       "  </tbody>\n",
       "</table>\n",
       "</div>"
      ],
      "text/plain": [
       "   Average Wind Speed (m/s)\n",
       "0                         3"
      ]
     },
     "execution_count": 20,
     "metadata": {},
     "output_type": "execute_result"
    }
   ],
   "source": [
    "wind_Data = [[3]]\n",
    "wind_Speed = pd.DataFrame(wind_Data,columns = [\"Average Wind Speed (m/s)\"])\n",
    "wind_Speed"
   ]
  },
  {
   "cell_type": "markdown",
   "metadata": {},
   "source": [
    "## Hourly Constants"
   ]
  },
  {
   "cell_type": "code",
   "execution_count": 21,
   "metadata": {},
   "outputs": [
    {
     "name": "stdout",
     "output_type": "stream",
     "text": [
      "Index(['Month', 'Day', 'Hour', 'Beam Irradiance (W/m2)',\n",
      "       'Diffuse Irradiance (W/m2)', 'Ambient Temperature (C)',\n",
      "       'Wind Speed (m/s)'],\n",
      "      dtype='object')\n",
      "   Month  Day  Hour  Beam Irradiance (W/m2)  Diffuse Irradiance (W/m2)  \\\n",
      "0      6    1     0                       0                          0   \n",
      "1      6    1     1                       0                          0   \n",
      "2      6    1     2                       0                          0   \n",
      "3      6    1     3                       0                          0   \n",
      "4      6    1     4                       0                          0   \n",
      "\n",
      "   Ambient Temperature (C)  Wind Speed (m/s)  \n",
      "0                       21               0.8  \n",
      "1                       21               0.8  \n",
      "2                       20               0.7  \n",
      "3                       20               0.7  \n",
      "4                       20               0.7  \n"
     ]
    }
   ],
   "source": [
    "# Load the Excel file into a pandas DataFrame\n",
    "constant_frame = pd.read_excel('HourlyConstants.xlsx', header=1)\n",
    "\n",
    "print(constant_frame.columns)\n",
    "\n",
    "# Now you can work with the DataFrame 'df'\n",
    "print(constant_frame.head())  # Display the first few rows of the DataFrame?"
   ]
  },
  {
   "cell_type": "markdown",
   "metadata": {},
   "source": [
    "## Heat Transfer Characteristics"
   ]
  },
  {
   "cell_type": "code",
   "execution_count": 22,
   "metadata": {},
   "outputs": [
    {
     "data": {
      "text/html": [
       "<div>\n",
       "<style scoped>\n",
       "    .dataframe tbody tr th:only-of-type {\n",
       "        vertical-align: middle;\n",
       "    }\n",
       "\n",
       "    .dataframe tbody tr th {\n",
       "        vertical-align: top;\n",
       "    }\n",
       "\n",
       "    .dataframe thead th {\n",
       "        text-align: right;\n",
       "    }\n",
       "</style>\n",
       "<table border=\"1\" class=\"dataframe\">\n",
       "  <thead>\n",
       "    <tr style=\"text-align: right;\">\n",
       "      <th></th>\n",
       "      <th>Parameter</th>\n",
       "      <th>Value</th>\n",
       "      <th>Units/Notes</th>\n",
       "    </tr>\n",
       "  </thead>\n",
       "  <tbody>\n",
       "    <tr>\n",
       "      <th>0</th>\n",
       "      <td>Number of Units</td>\n",
       "      <td>21.00000</td>\n",
       "      <td>3 sets of 7 in series</td>\n",
       "    </tr>\n",
       "    <tr>\n",
       "      <th>1</th>\n",
       "      <td>Unit Length</td>\n",
       "      <td>0.03000</td>\n",
       "      <td>m</td>\n",
       "    </tr>\n",
       "    <tr>\n",
       "      <th>2</th>\n",
       "      <td>Unit Thickness</td>\n",
       "      <td>0.00375</td>\n",
       "      <td>m</td>\n",
       "    </tr>\n",
       "    <tr>\n",
       "      <th>3</th>\n",
       "      <td>Thermal Conductivity</td>\n",
       "      <td>1.72000</td>\n",
       "      <td>W/mK</td>\n",
       "    </tr>\n",
       "    <tr>\n",
       "      <th>4</th>\n",
       "      <td>Emissivity</td>\n",
       "      <td>0.90000</td>\n",
       "      <td>Painted Black</td>\n",
       "    </tr>\n",
       "    <tr>\n",
       "      <th>5</th>\n",
       "      <td>Absorptivity</td>\n",
       "      <td>0.90000</td>\n",
       "      <td>Painted Black</td>\n",
       "    </tr>\n",
       "    <tr>\n",
       "      <th>6</th>\n",
       "      <td>Assumed Water Temperature</td>\n",
       "      <td>30.00000</td>\n",
       "      <td>Degree C</td>\n",
       "    </tr>\n",
       "  </tbody>\n",
       "</table>\n",
       "</div>"
      ],
      "text/plain": [
       "                   Parameter     Value            Units/Notes\n",
       "0            Number of Units  21.00000  3 sets of 7 in series\n",
       "1                Unit Length   0.03000                      m\n",
       "2             Unit Thickness   0.00375                      m\n",
       "3       Thermal Conductivity   1.72000                   W/mK\n",
       "4                 Emissivity   0.90000          Painted Black\n",
       "5               Absorptivity   0.90000          Painted Black\n",
       "6  Assumed Water Temperature  30.00000               Degree C"
      ]
     },
     "execution_count": 22,
     "metadata": {},
     "output_type": "execute_result"
    }
   ],
   "source": [
    "heat_data = [\n",
    "    [\"Number of Units\",21,\"3 sets of 7 in series\"],\n",
    "    [\"Unit Length\",0.03,\"m\"],\n",
    "    [\"Unit Thickness\",3.75E-3,\"m\"],\n",
    "    [\"Thermal Conductivity\",1.72,\"W/mK\"],\n",
    "    [\"Emissivity\",.9,\"Painted Black\"],\n",
    "    [\"Absorptivity\",.9,\"Painted Black\"],\n",
    "    [\"Assumed Water Temperature\",30,\"Degree C\"],\n",
    "]\n",
    "heat_parameters = pd.DataFrame(heat_data, columns=[\"Parameter\", \"Value\",\"Units/Notes\"])\n",
    "\n",
    "heat_parameters"
   ]
  },
  {
   "cell_type": "code",
   "execution_count": 23,
   "metadata": {},
   "outputs": [],
   "source": [
    "from pyfluids import Fluid, FluidsList, Input\n",
    "\n",
    "water = Fluid(FluidsList.Water)\n",
    "\n",
    "water_ambient = water.with_state(\n",
    "    Input.pressure(101325), Input.temperature(30)\n",
    ")\n",
    "#print(water_ambient.density)"
   ]
  },
  {
   "cell_type": "markdown",
   "metadata": {},
   "source": [
    "## Natural Convection for the Bottom of the Plate"
   ]
  },
  {
   "cell_type": "code",
   "execution_count": 24,
   "metadata": {},
   "outputs": [],
   "source": [
    "def calcBeta(Tc,Tw):\n",
    "    \"\"\"\n",
    "    Calculates Beta coefficient\n",
    "\n",
    "    Parameters:\n",
    "    -Tc (float): Temp (K) of the cold side of the thermoelectric generator\n",
    "    -Th (float): Temp (K) of the hot side of the thermoelectric generator\n",
    "\n",
    "    Returns:\n",
    "    -beta (float): coefficient value\n",
    "    \"\"\"\n",
    "    water_Amb = water.with_state(\n",
    "    Input.pressure(101325), Input.temperature(Tw-273)\n",
    "    )\n",
    "\n",
    "    rhoAmb = water_Amb.density\n",
    "\n",
    "    T = Tc - 273\n",
    "    rho = (999.83952 + 16.945176 * T - 7.9870401E-3 * (T**2) - 49.170461E-6 * (T**3) + 105.56302E-9 * (T**4) - 280.54253E-12 * (T**5))/(1+16.897850E-3 * T)\n",
    "    print(rho)\n",
    "\n",
    "    beta = -1/rho * (rhoAmb-rho)/(Tw-Tc)\n",
    "    return beta\n"
   ]
  },
  {
   "cell_type": "code",
   "execution_count": 25,
   "metadata": {},
   "outputs": [],
   "source": [
    "def calcRalyeighNumber(beta, Tc, Tw, x, alpha):\n",
    "    \"\"\"\n",
    "    Calculates RalyeighNumber\n",
    "\n",
    "    Parameters:\n",
    "    -Tc (float): Temp (K) of the cold side of the thermoelectric generator\n",
    "    -beta (float): coefficient value\n",
    "    -Tw (float): Temp (K) of the water\n",
    "    -x (float): Length in meters\n",
    "    -alpha (float)\n",
    "\n",
    "    Returns:\n",
    "    -RaX\n",
    "    \"\"\"\n",
    "    #Find dT\n",
    "    deltaT = Tc - Tw\n",
    "    #Define Constants\n",
    "    g = 9.81\n",
    "    kinematic_viscosity = 8.005E-7\n",
    "    #Calculate Ra\n",
    "    Rax  = abs(g * beta * deltaT * (x)**3 / (kinematic_viscosity * alpha))\n",
    "    return Rax"
   ]
  },
  {
   "cell_type": "code",
   "execution_count": 26,
   "metadata": {},
   "outputs": [],
   "source": [
    "def bottomConvection(Tc,Tw,L,alpha):\n",
    "\n",
    "    Pr = 6.9\n",
    "    beta = calcBeta(Tc,Tw)\n",
    "    \n",
    "    #Calculate Ralyeigh Number at x = L\n",
    "    RaL = calcRalyeighNumber(beta,Tc, Tw, L, alpha)\n",
    "\n",
    "    assert RaL < 1e9 and RaL > 1e4, \"Ralyeigh Number is out of bounds\"\n",
    "    \n",
    "    NuL = 0.52 * RaL ** (1/5)\n",
    "\n",
    "    kf = 0.598E-3 # kW/mK\n",
    "\n",
    "\n",
    "    return NuL\n",
    "\n"
   ]
  },
  {
   "cell_type": "markdown",
   "metadata": {},
   "source": [
    "## Forced Convection on Top of the Plate"
   ]
  },
  {
   "cell_type": "code",
   "execution_count": 27,
   "metadata": {},
   "outputs": [],
   "source": [
    "def topForcedConvectionCoefficient(u,Lplate):\n",
    "    \"\"\"\n",
    "    Calculates h for the top plate due to wind\n",
    "\n",
    "    Parameters:\n",
    "    -u (float): Wind speed (m/s)\n",
    "    -Lplate (float):Length of solar abosrber (m)\n",
    "\n",
    "    Returns:\n",
    "    -ha (float): Convection coefficient (W/m^2 K)\n",
    "    \"\"\"\n",
    "    #Forced Convection on the top of the plate\n",
    "    #Constants for \n",
    "    kf = 27.06 #W/(mk)\n",
    "    kinematic_viscosity = 1.61E-5\n",
    "    Pr = 0.71\n",
    "\n",
    "    Re = u  * Lplate / (kinematic_viscosity)\n",
    "    \n",
    "    assert Re < 1e6, \"Reynolds Number Exceeded\"\n",
    "\n",
    "    NuL = 0.453 * (Re ** (1/2)) * (Pr ** 1/3)\n",
    "    ha = NuL * kf / Lplate\n",
    "\n",
    "    return ha\n"
   ]
  },
  {
   "cell_type": "markdown",
   "metadata": {},
   "source": [
    "## Heat Balance Equations"
   ]
  },
  {
   "cell_type": "code",
   "execution_count": 28,
   "metadata": {},
   "outputs": [
    {
     "name": "stdout",
     "output_type": "stream",
     "text": [
      " message: The relative error between two consecutive iterates is at most 0.000000\n",
      " success: True\n",
      "  status: 2\n",
      "     fun: [-2.490e-12  3.329e-14 -2.515e-12  1.137e-13]\n",
      "       x: [ 3.096e+02  3.032e+02  5.968e+01  9.952e+02]\n",
      "   cov_x: [[ 3.737e-06  1.349e-11  1.184e-10 -4.259e-12]\n",
      "           [ 1.349e-11  7.187e-02  6.309e-01 -2.269e-02]\n",
      "           [ 1.184e-10  6.309e-01  7.794e+02 -2.800e+01]\n",
      "           [-4.259e-12 -2.269e-02 -2.800e+01  1.007e+00]]\n",
      "  method: lm\n",
      "    nfev: 36\n",
      "    fjac: [[ 5.173e+02 -1.863e-10 -0.000e+00 -0.000e+00]\n",
      "           [ 0.000e+00 -2.782e+01  9.994e-01  3.595e-02]\n",
      "           [-9.709e-08 -1.135e-02 -3.744e+00  1.201e-01]\n",
      "           [-2.237e-18 -9.994e-01  3.030e-03  3.582e-02]]\n",
      "    ipvt: [1 4 2 3]\n",
      "     qtf: [ 2.487e-12 -1.419e-07 -9.030e-08  1.242e-08]\n",
      "T_h (˚C): 36.49077130305301\n",
      "T_c (˚C): 30.000000167720998\n",
      "delta T: 6.490771135332011\n",
      "h_w: 59.684395297413644\n",
      "rho: 995.1894532549267\n"
     ]
    }
   ],
   "source": [
    "def updatedSolution(u, L_plate, T_algae, L, alpha, G, epsilon, Tamb, Kt, N, t, L_sink):\n",
    "    \"\"\"\n",
    "    Numerically solves for Th (Temp (K) of hot side of thermoelectric generator), and Tc (Temp (K) of cold side of thermoelectric generator)\n",
    "\n",
    "    Parameters:\n",
    "    -u (float): Wind speed (m/s)\n",
    "    -L_plate (float):Length of solar abosrber (m)\n",
    "    -L (float): length of thermoelectric generator module (m)\n",
    "    -alpha (float):\n",
    "    -G (float): \n",
    "    -epsilon (float): emmisivity \n",
    "    -Tamb (float): Ambient Temperature (K)\n",
    "    -Kt (float): Thermal conductivity of the thermoelectric element\n",
    "    -N (int): number of modules\n",
    "    -t (float): Thickness of the thermoelectric element (m)\n",
    "    -L_sink (float): Length of the heat sink (m)\n",
    "\n",
    "    \n",
    "    \"\"\"    \n",
    "\n",
    "    def residuals(vars):\n",
    "        Th, Tc, h_w, rho = vars\n",
    "\n",
    "        ha = topForcedConvectionCoefficient(u, L_plate)\n",
    "        stefan = 5.67E-8\n",
    "\n",
    "        top_plate = L_plate * L_plate * (G * alpha - stefan * epsilon * Th ** 4 - ha * (Th - Tamb))\n",
    "        through_gen = N * L * L * Kt * t * (Th - Tc)\n",
    "        into_water = h_w * (Tc - T_algae) * L_sink * L_sink\n",
    "\n",
    "        top_to_gen = top_plate - through_gen\n",
    "        gen_to_water = through_gen - into_water\n",
    "\n",
    "        # Calculate rho\n",
    "        water_Amb = water.with_state(Input.pressure(101325), Input.temperature(T_algae-273))\n",
    "        rhoAmb = water_Amb.density\n",
    "        rho_expr = (999.83952 + 16.945176 * (Tc - 273) - 7.9870401E-3 * ((Tc - 273)**2) - 49.170461E-6 * ((Tc - 273)**3) + 105.56302E-9 * ((Tc - 273)**4) - 280.54253E-12 * ((Tc - 273)**5))/(1+16.897850E-3 * (Tc - 273))\n",
    "        rho_balance = rho - rho_expr\n",
    "\n",
    "        Beta = -1/rho * (rhoAmb-rho)/(T_algae - Tc)\n",
    "\n",
    "        # Calculate RaL\n",
    "        deltaT = Tc - T_algae\n",
    "        g = 9.81\n",
    "        kinematic_viscosity = 8.005E-7\n",
    "        RaL = abs(g * Beta * deltaT * (L_sink)**3 / (kinematic_viscosity * alpha))\n",
    "\n",
    "        Pr = 6.9\n",
    "        NuL = 0.68 + 0.670 * (RaL) ** (1/4) * (1 - (0.492/Pr) ** (9/16)) ** (-4/9)\n",
    "        \n",
    "        water_convective_coeff = h_w - NuL * 0.6 / L\n",
    "        return [top_to_gen, gen_to_water, water_convective_coeff, rho_balance]\n",
    "\n",
    "    initial_guess = [400, 300, 50, 900]\n",
    "    s = root(residuals, initial_guess, method = 'lm')\n",
    "\n",
    "    return s\n",
    "\n",
    "sol = updatedSolution(u = 0.5, L_plate = 1, T_algae = 30 + 273.15, L = 30E-3, alpha = 0.9, G = 800, epsilon = 0.9, Tamb = 36 + 273.15, Kt = 1.7e-3, N = 21, t = 3e-3, L_sink = 0.25)\n",
    "print(sol)\n",
    "\n",
    "print(\"T_h (˚C):\", sol.x[0] - 273.15)\n",
    "print(\"T_c (˚C):\", sol.x[1] - 273.15)\n",
    "print(\"delta T:\", sol.x[0] - sol.x[1])\n",
    "print(\"h_w:\", sol.x[2])\n",
    "print(\"rho:\", sol.x[3])\n"
   ]
  }
 ],
 "metadata": {
  "kernelspec": {
   "display_name": "Python 3",
   "language": "python",
   "name": "python3"
  },
  "language_info": {
   "codemirror_mode": {
    "name": "ipython",
    "version": 3
   },
   "file_extension": ".py",
   "mimetype": "text/x-python",
   "name": "python",
   "nbconvert_exporter": "python",
   "pygments_lexer": "ipython3",
   "version": "3.10.12"
  }
 },
 "nbformat": 4,
 "nbformat_minor": 2
}
