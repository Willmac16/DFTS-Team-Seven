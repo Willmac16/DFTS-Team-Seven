{
 "cells": [
  {
   "cell_type": "markdown",
   "metadata": {},
   "source": [
    "# Project 2: Thermoelectric Generator"
   ]
  },
  {
   "cell_type": "markdown",
   "metadata": {},
   "source": [
    "## Import and Install Libraries"
   ]
  },
  {
   "cell_type": "code",
   "execution_count": 1,
   "metadata": {},
   "outputs": [],
   "source": [
    "%%capture\n",
    "%pip install pandas pyfluids sympy scipy numpy matplotlib openpyxl\n",
    "\n",
    "import pandas as pd # This makes nice tables\n",
    "import pyfluids # This does the thermodynamics\n",
    "import math\n",
    "import numpy as np\n",
    "from scipy.optimize import fsolve\n",
    "from scipy.optimize import root\n",
    "import matplotlib.pyplot as plt\n",
    "from scipy.interpolate import RegularGridInterpolator"
   ]
  },
  {
   "cell_type": "code",
   "execution_count": 2,
   "metadata": {},
   "outputs": [],
   "source": [
    "from pyfluids import Fluid, FluidsList, Input\n",
    "\n",
    "water = Fluid(FluidsList.Water)"
   ]
  },
  {
   "cell_type": "markdown",
   "metadata": {},
   "source": [
    "## Power Requirements"
   ]
  },
  {
   "cell_type": "code",
   "execution_count": 22,
   "metadata": {},
   "outputs": [
    {
     "data": {
      "text/plain": [
       "0.21429999999999996"
      ]
     },
     "execution_count": 22,
     "metadata": {},
     "output_type": "execute_result"
    }
   ],
   "source": [
    "voltage_required = 3.3 # Volts\n",
    "total_power_draw = 0.7071899999999999 # Watts\n",
    "current_required = 0.21429999999999996 # Amps\n",
    "current_required"
   ]
  },
  {
   "cell_type": "markdown",
   "metadata": {},
   "source": [
    "## Solar Irradiation"
   ]
  },
  {
   "cell_type": "code",
   "execution_count": 4,
   "metadata": {},
   "outputs": [
    {
     "data": {
      "text/plain": [
       "(364.99999999999994, 410.8333333333333)"
      ]
     },
     "execution_count": 4,
     "metadata": {},
     "output_type": "execute_result"
    }
   ],
   "source": [
    "# kWh/m^2 per day\n",
    "min_irradiation = 4.38\n",
    "max_irradiation = 4.93\n",
    "\n",
    "min_irradiation *= 1e3 / 12\n",
    "max_irradiation *= 1e3 / 12 \n",
    "\n",
    "min_irradiation, max_irradiation"
   ]
  },
  {
   "cell_type": "code",
   "execution_count": 5,
   "metadata": {},
   "outputs": [],
   "source": [
    "# Celcius\n",
    "min_avg_temp = 24\n",
    "max_avg_temp = 37\n",
    "\n",
    "zero_celsius = 273.15"
   ]
  },
  {
   "cell_type": "markdown",
   "metadata": {},
   "source": [
    "## Wind Speed"
   ]
  },
  {
   "cell_type": "code",
   "execution_count": 6,
   "metadata": {},
   "outputs": [],
   "source": [
    "average_wind_speed = 3 # m/s"
   ]
  },
  {
   "cell_type": "markdown",
   "metadata": {},
   "source": [
    "## Hourly Constants"
   ]
  },
  {
   "cell_type": "code",
   "execution_count": 7,
   "metadata": {},
   "outputs": [
    {
     "name": "stdout",
     "output_type": "stream",
     "text": [
      "Index(['Month', 'Day', 'Hour', 'Beam Irradiance (W/m2)',\n",
      "       'Ambient Temperature (C)', 'Wind Speed (m/s)'],\n",
      "      dtype='object')\n",
      "   Month  Day  Hour  Beam Irradiance (W/m2)  Ambient Temperature (C)  \\\n",
      "0      6    1     0                       0                       21   \n",
      "1      6    1     1                       0                       21   \n",
      "2      6    1     2                       0                       20   \n",
      "3      6    1     3                       0                       20   \n",
      "4      6    1     4                       0                       20   \n",
      "\n",
      "   Wind Speed (m/s)  \n",
      "0               0.8  \n",
      "1               0.8  \n",
      "2               0.7  \n",
      "3               0.7  \n",
      "4               0.7  \n"
     ]
    },
    {
     "data": {
      "text/html": [
       "<div>\n",
       "<style scoped>\n",
       "    .dataframe tbody tr th:only-of-type {\n",
       "        vertical-align: middle;\n",
       "    }\n",
       "\n",
       "    .dataframe tbody tr th {\n",
       "        vertical-align: top;\n",
       "    }\n",
       "\n",
       "    .dataframe thead th {\n",
       "        text-align: right;\n",
       "    }\n",
       "</style>\n",
       "<table border=\"1\" class=\"dataframe\">\n",
       "  <thead>\n",
       "    <tr style=\"text-align: right;\">\n",
       "      <th></th>\n",
       "      <th>Month</th>\n",
       "      <th>Day</th>\n",
       "      <th>Hour</th>\n",
       "      <th>Beam Irradiance (W/m2)</th>\n",
       "      <th>Ambient Temperature (C)</th>\n",
       "      <th>Wind Speed (m/s)</th>\n",
       "    </tr>\n",
       "  </thead>\n",
       "  <tbody>\n",
       "    <tr>\n",
       "      <th>0</th>\n",
       "      <td>6</td>\n",
       "      <td>1</td>\n",
       "      <td>0</td>\n",
       "      <td>0</td>\n",
       "      <td>21</td>\n",
       "      <td>0.8</td>\n",
       "    </tr>\n",
       "    <tr>\n",
       "      <th>1</th>\n",
       "      <td>6</td>\n",
       "      <td>1</td>\n",
       "      <td>1</td>\n",
       "      <td>0</td>\n",
       "      <td>21</td>\n",
       "      <td>0.8</td>\n",
       "    </tr>\n",
       "    <tr>\n",
       "      <th>2</th>\n",
       "      <td>6</td>\n",
       "      <td>1</td>\n",
       "      <td>2</td>\n",
       "      <td>0</td>\n",
       "      <td>20</td>\n",
       "      <td>0.7</td>\n",
       "    </tr>\n",
       "    <tr>\n",
       "      <th>3</th>\n",
       "      <td>6</td>\n",
       "      <td>1</td>\n",
       "      <td>3</td>\n",
       "      <td>0</td>\n",
       "      <td>20</td>\n",
       "      <td>0.7</td>\n",
       "    </tr>\n",
       "    <tr>\n",
       "      <th>4</th>\n",
       "      <td>6</td>\n",
       "      <td>1</td>\n",
       "      <td>4</td>\n",
       "      <td>0</td>\n",
       "      <td>20</td>\n",
       "      <td>0.7</td>\n",
       "    </tr>\n",
       "    <tr>\n",
       "      <th>...</th>\n",
       "      <td>...</td>\n",
       "      <td>...</td>\n",
       "      <td>...</td>\n",
       "      <td>...</td>\n",
       "      <td>...</td>\n",
       "      <td>...</td>\n",
       "    </tr>\n",
       "    <tr>\n",
       "      <th>2923</th>\n",
       "      <td>9</td>\n",
       "      <td>30</td>\n",
       "      <td>19</td>\n",
       "      <td>0</td>\n",
       "      <td>19</td>\n",
       "      <td>1.4</td>\n",
       "    </tr>\n",
       "    <tr>\n",
       "      <th>2924</th>\n",
       "      <td>9</td>\n",
       "      <td>30</td>\n",
       "      <td>20</td>\n",
       "      <td>0</td>\n",
       "      <td>18</td>\n",
       "      <td>1.4</td>\n",
       "    </tr>\n",
       "    <tr>\n",
       "      <th>2925</th>\n",
       "      <td>9</td>\n",
       "      <td>30</td>\n",
       "      <td>21</td>\n",
       "      <td>0</td>\n",
       "      <td>17</td>\n",
       "      <td>1.3</td>\n",
       "    </tr>\n",
       "    <tr>\n",
       "      <th>2926</th>\n",
       "      <td>9</td>\n",
       "      <td>30</td>\n",
       "      <td>22</td>\n",
       "      <td>0</td>\n",
       "      <td>16</td>\n",
       "      <td>1.2</td>\n",
       "    </tr>\n",
       "    <tr>\n",
       "      <th>2927</th>\n",
       "      <td>9</td>\n",
       "      <td>30</td>\n",
       "      <td>23</td>\n",
       "      <td>0</td>\n",
       "      <td>16</td>\n",
       "      <td>1.0</td>\n",
       "    </tr>\n",
       "  </tbody>\n",
       "</table>\n",
       "<p>2928 rows × 6 columns</p>\n",
       "</div>"
      ],
      "text/plain": [
       "      Month  Day  Hour  Beam Irradiance (W/m2)  Ambient Temperature (C)  \\\n",
       "0         6    1     0                       0                       21   \n",
       "1         6    1     1                       0                       21   \n",
       "2         6    1     2                       0                       20   \n",
       "3         6    1     3                       0                       20   \n",
       "4         6    1     4                       0                       20   \n",
       "...     ...  ...   ...                     ...                      ...   \n",
       "2923      9   30    19                       0                       19   \n",
       "2924      9   30    20                       0                       18   \n",
       "2925      9   30    21                       0                       17   \n",
       "2926      9   30    22                       0                       16   \n",
       "2927      9   30    23                       0                       16   \n",
       "\n",
       "      Wind Speed (m/s)  \n",
       "0                  0.8  \n",
       "1                  0.8  \n",
       "2                  0.7  \n",
       "3                  0.7  \n",
       "4                  0.7  \n",
       "...                ...  \n",
       "2923               1.4  \n",
       "2924               1.4  \n",
       "2925               1.3  \n",
       "2926               1.2  \n",
       "2927               1.0  \n",
       "\n",
       "[2928 rows x 6 columns]"
      ]
     },
     "execution_count": 7,
     "metadata": {},
     "output_type": "execute_result"
    }
   ],
   "source": [
    "# Load the Excel file into a pandas DataFrame\n",
    "constant_frame = pd.read_excel('Project2Data/Hourly T,v,G.xlsx')\n",
    "print(constant_frame.columns)\n",
    "\n",
    "# Now you can work with the DataFrame 'df'\n",
    "print(constant_frame.head())  # Display the first few rows of the DataFrame?\n",
    "\n",
    "constant_frame"
   ]
  },
  {
   "cell_type": "markdown",
   "metadata": {},
   "source": [
    "## Heat Transfer Characteristics"
   ]
  },
  {
   "cell_type": "code",
   "execution_count": 23,
   "metadata": {},
   "outputs": [],
   "source": [
    "teg_length = 0.03 # m\n",
    "teg_thickness = 3.75e-3 # m\n",
    "teg_conductivity = 1.72 # W/mK\n",
    "teg_alpha = 0.96\n",
    "teg_eps = 0.12\n",
    "algae_temp = 30 # C"
   ]
  },
  {
   "cell_type": "markdown",
   "metadata": {},
   "source": [
    "## Natural Convection for the Bottom of the Plate"
   ]
  },
  {
   "cell_type": "code",
   "execution_count": 9,
   "metadata": {},
   "outputs": [],
   "source": [
    "def calcBeta(Tc,Tw):\n",
    "    \"\"\"\n",
    "    Calculates Beta coefficient\n",
    "\n",
    "    Parameters:\n",
    "    -Tc (float): Temp (K) of the cold side of the thermoelectric generator\n",
    "    -Th (float): Temp (K) of the hot side of the thermoelectric generator\n",
    "\n",
    "    Returns:\n",
    "    -beta (float): coefficient value\n",
    "    \"\"\"\n",
    "    water_Amb = water.with_state(\n",
    "      Input.pressure(101325), Input.temperature(Tw-273)\n",
    "    )\n",
    "\n",
    "    rhoAmb = water_Amb.density\n",
    "\n",
    "    T = Tc - 273\n",
    "    rho = (999.83952 + 16.945176 * T - 7.9870401E-3 * (T**2) - 49.170461E-6 * (T**3) + 105.56302E-9 * (T**4) - 280.54253E-12 * (T**5))/(1+16.897850E-3 * T)\n",
    "    print(rho)\n",
    "\n",
    "    beta = -1/rho * (rhoAmb-rho)/(Tw-Tc)\n",
    "    return beta\n"
   ]
  },
  {
   "cell_type": "code",
   "execution_count": 10,
   "metadata": {},
   "outputs": [],
   "source": [
    "def calcRalyeighNumber(beta, Tc, Tw, x, alpha):\n",
    "    \"\"\"\n",
    "    Calculates RalyeighNumber\n",
    "\n",
    "    Parameters:\n",
    "    -Tc (float): Temp (K) of the cold side of the thermoelectric generator\n",
    "    -beta (float): coefficient value\n",
    "    -Tw (float): Temp (K) of the water\n",
    "    -x (float): Length in meters\n",
    "    -alpha (float)\n",
    "\n",
    "    Returns:\n",
    "    -RaX\n",
    "    \"\"\"\n",
    "    #Find dT\n",
    "    deltaT = Tc - Tw\n",
    "    #Define Constants\n",
    "    g = 9.81\n",
    "    kinematic_viscosity = 8.005E-7\n",
    "    #Calculate Ra\n",
    "    Rax  = abs(g * beta * deltaT * (x)**3 / (kinematic_viscosity * alpha))\n",
    "    return Rax"
   ]
  },
  {
   "cell_type": "code",
   "execution_count": 11,
   "metadata": {},
   "outputs": [],
   "source": [
    "def bottomConvection(Tc,Tw,L,alpha):\n",
    "\n",
    "    Pr = 6.9\n",
    "    beta = calcBeta(Tc,Tw)\n",
    "    \n",
    "    #Calculate Ralyeigh Number at x = L\n",
    "    RaL = calcRalyeighNumber(beta,Tc, Tw, L, alpha)\n",
    "\n",
    "    assert RaL > 1e4 and RaL < 1e9, \"Ralyeigh Number is out of bounds\"\n",
    "    \n",
    "    NuL = 0.52 * RaL ** (1/5)\n",
    "\n",
    "    kf = 0.598E-3 # kW/mK\n",
    "\n",
    "\n",
    "    return NuL\n",
    "\n"
   ]
  },
  {
   "cell_type": "markdown",
   "metadata": {},
   "source": [
    "## Forced Convection on Top of the Plate"
   ]
  },
  {
   "cell_type": "code",
   "execution_count": 12,
   "metadata": {},
   "outputs": [],
   "source": [
    "def topForcedConvectionCoefficient(u,Lplate):\n",
    "    \"\"\"\n",
    "    Calculates h for the top plate due to wind\n",
    "\n",
    "    Parameters:\n",
    "    -u (float): Wind speed (m/s)\n",
    "    -Lplate (float):Length of solar abosrber (m)\n",
    "\n",
    "    Returns:\n",
    "    -ha (float): Convection coefficient (W/m^2 K)\n",
    "    \"\"\"\n",
    "    #Forced Convection on the top of the plate\n",
    "    #Constants for \n",
    "    kf = 0.0259 #W/(mk)\n",
    "    kinematic_viscosity = 1.61E-5\n",
    "    Pr = 0.71\n",
    "\n",
    "    Re = u * Lplate / (kinematic_viscosity)\n",
    "    \n",
    "    assert Re < 5e5, \"Reynolds Number Exceeded\"\n",
    "\n",
    "    NuL = 0.664 * Re ** (1/2) * Pr ** 1/3\n",
    "    ha = NuL * kf / Lplate\n",
    "\n",
    "    return ha\n"
   ]
  },
  {
   "cell_type": "markdown",
   "metadata": {},
   "source": [
    "## TEG"
   ]
  },
  {
   "cell_type": "code",
   "execution_count": 13,
   "metadata": {},
   "outputs": [
    {
     "data": {
      "text/html": [
       "<div>\n",
       "<style scoped>\n",
       "    .dataframe tbody tr th:only-of-type {\n",
       "        vertical-align: middle;\n",
       "    }\n",
       "\n",
       "    .dataframe tbody tr th {\n",
       "        vertical-align: top;\n",
       "    }\n",
       "\n",
       "    .dataframe thead th {\n",
       "        text-align: right;\n",
       "    }\n",
       "</style>\n",
       "<table border=\"1\" class=\"dataframe\">\n",
       "  <thead>\n",
       "    <tr style=\"text-align: right;\">\n",
       "      <th></th>\n",
       "      <th>T cold</th>\n",
       "      <th>T hot</th>\n",
       "      <th>V</th>\n",
       "    </tr>\n",
       "  </thead>\n",
       "  <tbody>\n",
       "    <tr>\n",
       "      <th>0</th>\n",
       "      <td>25</td>\n",
       "      <td>50</td>\n",
       "      <td>0.55</td>\n",
       "    </tr>\n",
       "    <tr>\n",
       "      <th>1</th>\n",
       "      <td>25</td>\n",
       "      <td>75</td>\n",
       "      <td>1.10</td>\n",
       "    </tr>\n",
       "    <tr>\n",
       "      <th>2</th>\n",
       "      <td>25</td>\n",
       "      <td>100</td>\n",
       "      <td>1.70</td>\n",
       "    </tr>\n",
       "    <tr>\n",
       "      <th>3</th>\n",
       "      <td>25</td>\n",
       "      <td>125</td>\n",
       "      <td>2.25</td>\n",
       "    </tr>\n",
       "    <tr>\n",
       "      <th>4</th>\n",
       "      <td>25</td>\n",
       "      <td>150</td>\n",
       "      <td>2.80</td>\n",
       "    </tr>\n",
       "  </tbody>\n",
       "</table>\n",
       "</div>"
      ],
      "text/plain": [
       "   T cold  T hot     V\n",
       "0      25     50  0.55\n",
       "1      25     75  1.10\n",
       "2      25    100  1.70\n",
       "3      25    125  2.25\n",
       "4      25    150  2.80"
      ]
     },
     "execution_count": 13,
     "metadata": {},
     "output_type": "execute_result"
    }
   ],
   "source": [
    "amps = pd.read_csv('Project2Data/Voltage and Current - Amps Verbose.csv')\n",
    "volts = pd.read_csv('Project2Data/Voltage and Current - Volts Verbose.csv')\n",
    "\n",
    "volts.head()"
   ]
  },
  {
   "cell_type": "code",
   "execution_count": 14,
   "metadata": {},
   "outputs": [],
   "source": [
    "amps_interp = RegularGridInterpolator((amps['T cold'].unique(), amps['T hot'].unique()),\n",
    "                                      amps['I'].to_numpy().reshape(\n",
    "                                        len(amps['T cold'].unique()),\n",
    "                                        len(amps['T hot'].unique())))\n",
    "volts_interp = RegularGridInterpolator((volts['T cold'].unique(), volts['T hot'].unique()),\n",
    "                                      volts['V'].to_numpy().reshape(\n",
    "                                        len(volts['T cold'].unique()),\n",
    "                                        len(volts['T hot'].unique())))"
   ]
  },
  {
   "cell_type": "markdown",
   "metadata": {},
   "source": [
    "## Heat Balance Equations"
   ]
  },
  {
   "cell_type": "code",
   "execution_count": 15,
   "metadata": {},
   "outputs": [],
   "source": [
    "plate_length = 1 # m\n",
    "\n",
    "teg_series = 7\n",
    "teg_parallel = 3\n",
    "\n",
    "teg_count = teg_series * teg_parallel"
   ]
  },
  {
   "cell_type": "code",
   "execution_count": 16,
   "metadata": {},
   "outputs": [],
   "source": [
    "def updatedSolution(u, L_plate, T_algae, L, alpha, G, epsilon, Tamb, Kt, N, t, L_sink):\n",
    "    \"\"\"\n",
    "    Numerically solves for Th (Temp (K) of hot side of thermoelectric generator), and Tc (Temp (K) of cold side of thermoelectric generator)\n",
    "\n",
    "    Parameters:\n",
    "    -u (float): Wind speed (m/s)\n",
    "    -L_plate (float):Length of solar abosrber (m)\n",
    "    -L (float): length of thermoelectric generator module (m)\n",
    "    -alpha (float):\n",
    "    -G (float): \n",
    "    -epsilon (float): emmisivity \n",
    "    -Tamb (float): Ambient Temperature (K)\n",
    "    -Kt (float): Thermal conductivity of the thermoelectric element\n",
    "    -N (int): number of modules\n",
    "    -t (float): Thickness of the thermoelectric element (m)\n",
    "    -L_sink (float): Length of the heat sink (m)\n",
    "\n",
    "    \n",
    "    \"\"\"    \n",
    "\n",
    "    def residuals(vars):\n",
    "        Th, Tc, h_w, rho = vars\n",
    "\n",
    "        ha = topForcedConvectionCoefficient(u, L_plate)\n",
    "        stefan = 5.67E-8\n",
    "\n",
    "        top_plate = G * alpha - stefan * epsilon * Th ** 4 - ha * (Th - Tamb)\n",
    "        top_plate *= L_plate ** 2\n",
    "        through_gen = N * L ** 2 * Kt / t * (Th - Tc)\n",
    "        into_water = h_w * (Tc - T_algae) * L_sink ** 2 \n",
    "\n",
    "        top_to_gen = top_plate - through_gen\n",
    "        gen_to_water = through_gen - into_water\n",
    "\n",
    "        # Calculate rho\n",
    "        water_Amb = water.with_state(Input.pressure(101325), Input.temperature(T_algae-273))\n",
    "        rhoAmb = water_Amb.density\n",
    "        rho_expr = (999.83952 + 16.945176 * (Tc - 273) - 7.9870401E-3 * ((Tc - 273)**2) - 49.170461E-6 * ((Tc - 273)**3) + 105.56302E-9 * ((Tc - 273)**4) - 280.54253E-12 * ((Tc - 273)**5))/(1+16.897850E-3 * (Tc - 273))\n",
    "        rho_balance = rho - rho_expr\n",
    "\n",
    "        Beta = -1/rho * (rhoAmb-rho)/(T_algae - Tc)\n",
    "\n",
    "        # Calculate RaL\n",
    "        deltaT = Tc - T_algae\n",
    "        g = 9.81\n",
    "        kinematic_viscosity = 8.005E-7\n",
    "        RaL = abs(g * Beta * deltaT * (L_sink)**3 / (kinematic_viscosity * alpha))\n",
    "\n",
    "        Pr = 6.9\n",
    "        NuL = 0.68 + 0.670 * (RaL) ** (1/4) * (1 - (0.492/Pr) ** (9/16)) ** (-4/9)\n",
    "        \n",
    "        water_convective_coeff = h_w - NuL * 0.6 / L\n",
    "        return [top_to_gen, gen_to_water, water_convective_coeff, rho_balance]\n",
    "\n",
    "    initial_guess = [400, 300, 50, 900]\n",
    "    s = root(residuals, initial_guess, method = 'lm')\n",
    "\n",
    "    return s"
   ]
  },
  {
   "cell_type": "code",
   "execution_count": 24,
   "metadata": {},
   "outputs": [
    {
     "name": "stdout",
     "output_type": "stream",
     "text": [
      "T_h (˚C): 56.488850259681726\n",
      "T_c (˚C): 31.920333195794342\n",
      "delta T: 24.568517063887384\n",
      "h_w: 110.9058087415451\n",
      "rho: 995.7414308278168\n",
      "Current: 0.402686231202865\n",
      "Voltage: 3.6125576680259783\n"
     ]
    }
   ],
   "source": [
    "\n",
    "def hourly_solve(irradiation, ambient_temp, wind_speed):\n",
    "    sol = updatedSolution(u = wind_speed,\n",
    "                      L_plate = plate_length,\n",
    "                      T_algae = algae_temp + zero_celsius,\n",
    "                      L = teg_length,\n",
    "                      alpha = teg_alpha,\n",
    "                      G = irradiation,\n",
    "                      epsilon = teg_eps,\n",
    "                      Tamb = ambient_temp + zero_celsius,\n",
    "                      Kt = teg_conductivity,\n",
    "                      N = teg_count,\n",
    "                      t = teg_thickness,\n",
    "                      L_sink = plate_length)\n",
    "    if (sol.success):\n",
    "      hot_temp = sol.x[0] - zero_celsius\n",
    "      cold_temp = sol.x[1] - zero_celsius\n",
    "      print(\"T_h (˚C):\", hot_temp)\n",
    "      print(\"T_c (˚C):\", cold_temp)\n",
    "      print(\"delta T:\", sol.x[0] - sol.x[1])\n",
    "      print(\"h_w:\", sol.x[2])\n",
    "      print(\"rho:\", sol.x[3])\n",
    "\n",
    "      current = amps_interp((cold_temp, hot_temp)) * teg_parallel\n",
    "      emf = volts_interp((cold_temp, hot_temp)) * teg_series\n",
    "\n",
    "      print(\"Current:\", current)\n",
    "      print(\"Voltage:\", emf)\n",
    "  \n",
    "hourly_solve(min_irradiation, min_avg_temp, average_wind_speed)"
   ]
  },
  {
   "cell_type": "code",
   "execution_count": null,
   "metadata": {},
   "outputs": [],
   "source": []
  }
 ],
 "metadata": {
  "kernelspec": {
   "display_name": "Python 3",
   "language": "python",
   "name": "python3"
  },
  "language_info": {
   "codemirror_mode": {
    "name": "ipython",
    "version": 3
   },
   "file_extension": ".py",
   "mimetype": "text/x-python",
   "name": "python",
   "nbconvert_exporter": "python",
   "pygments_lexer": "ipython3",
   "version": "3.11.8"
  }
 },
 "nbformat": 4,
 "nbformat_minor": 2
}
